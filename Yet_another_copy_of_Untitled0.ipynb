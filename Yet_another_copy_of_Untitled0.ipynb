{
  "nbformat": 4,
  "nbformat_minor": 0,
  "metadata": {
    "colab": {
      "provenance": [],
      "collapsed_sections": [
        "mEqAPg6aTQa-",
        "1EHuW8JYfxyJ",
        "mofMqgxzs_oj"
      ],
      "toc_visible": true,
      "include_colab_link": true
    },
    "kernelspec": {
      "name": "python3",
      "display_name": "Python 3"
    },
    "language_info": {
      "name": "python"
    }
  },
  "cells": [
    {
      "cell_type": "markdown",
      "metadata": {
        "id": "view-in-github",
        "colab_type": "text"
      },
      "source": [
        "<a href=\"https://colab.research.google.com/github/RubaAlshamrani/CS392-F22-HW4--Ruba-Alshamrani-/blob/main/Yet_another_copy_of_Untitled0.ipynb\" target=\"_parent\"><img src=\"https://colab.research.google.com/assets/colab-badge.svg\" alt=\"Open In Colab\"/></a>"
      ]
    },
    {
      "cell_type": "markdown",
      "source": [
        "# ASSIGMENT 2"
      ],
      "metadata": {
        "id": "mV9uNVP6m_cb"
      }
    },
    {
      "cell_type": "markdown",
      "source": [
        "##**lung.mat**"
      ],
      "metadata": {
        "id": "33DG4B-ptX-o"
      }
    },
    {
      "cell_type": "markdown",
      "source": [
        "Step 1: Load the Dataset"
      ],
      "metadata": {
        "id": "TUfLcJ4-fKjg"
      }
    },
    {
      "cell_type": "code",
      "source": [
        "# Load pakages and Library for working\n",
        "from sklearn.model_selection import train_test_split\n",
        "# train a Gaussian Naive Bayes classifier on the training set\n",
        "from sklearn.naive_bayes import GaussianNB\n",
        "# import a KNeighbors classifier\n",
        "from sklearn.neighbors import KNeighborsClassifier\n",
        "# Test Accuracy\n",
        "from sklearn.metrics import accuracy_score\n",
        "# import time module to calc classification time in second\n",
        "import time\n",
        "# import the NumPy module\n",
        "import numpy as np\n",
        "# import the classification report module\n",
        "from sklearn.metrics import classification_report\n",
        "\n",
        "\n",
        "\n",
        "\n",
        "\n",
        "# Load the .mat file\n",
        "from scipy.io import loadmat\n",
        "import pandas as pd\n",
        "\n",
        "lung = loadmat('/content/lung(1).mat')\n"
      ],
      "metadata": {
        "id": "xtr6pKgUfKjh"
      },
      "execution_count": null,
      "outputs": []
    },
    {
      "cell_type": "markdown",
      "source": [
        "Step 2: Data Exploration\n",
        "\n",
        "\n",
        "\n"
      ],
      "metadata": {
        "id": "kYfXH8IgfKji"
      }
    },
    {
      "cell_type": "code",
      "source": [
        "X_lung= pd.DataFrame(lung['X'])\n",
        "Y_lung = pd.DataFrame(lung['Y'])\n",
        "\n",
        "#Print descriptive analysis about dataset\n",
        "X_lung.describe()"
      ],
      "metadata": {
        "colab": {
          "base_uri": "https://localhost:8080/"
        },
        "outputId": "3fb2021d-d3b1-469f-d64b-19faa5ff7c02",
        "id": "7IqB5W6pfKjj"
      },
      "execution_count": null,
      "outputs": [
        {
          "output_type": "execute_result",
          "data": {
            "text/plain": [
              "             0           1           2           3           4           5     \\\n",
              "count  203.000000  203.000000  203.000000  203.000000  203.000000  203.000000   \n",
              "mean     3.852954    1.897285    1.882023    2.456568    3.363554    3.370603   \n",
              "std      0.046501    0.373249    0.289968    0.226589    0.175697    0.173235   \n",
              "min      3.719071    1.000000    1.000000    1.794627    2.705282    2.894842   \n",
              "25%      3.821581    1.659363    1.710455    2.307828    3.265530    3.262582   \n",
              "50%      3.851614    1.965766    1.897517    2.447375    3.381507    3.389742   \n",
              "75%      3.884363    2.167347    2.092614    2.606816    3.470232    3.483416   \n",
              "max      3.972624    2.695455    2.618947    3.001301    3.719680    3.722039   \n",
              "\n",
              "             6           7           8           9     ...        3302  \\\n",
              "count  203.000000  203.000000  203.000000  203.000000  ...  203.000000   \n",
              "mean     3.509625    3.474571    3.585993    3.624655  ...    1.707262   \n",
              "std      0.126212    0.118195    0.092053    0.067111  ...    0.426523   \n",
              "min      3.032066    2.988260    3.182261    3.313268  ...    1.000000   \n",
              "25%      3.434958    3.433452    3.549895    3.595060  ...    1.421668   \n",
              "50%      3.528263    3.494889    3.599013    3.634678  ...    1.803389   \n",
              "75%      3.596736    3.552158    3.647148    3.673326  ...    2.048031   \n",
              "max      3.736109    3.688640    3.742079    3.742775  ...    2.409062   \n",
              "\n",
              "             3303        3304        3305        3306        3307        3308  \\\n",
              "count  203.000000  203.000000  203.000000  203.000000  203.000000  203.000000   \n",
              "mean     1.750352    1.285979    2.173430    3.089952    1.874063    2.577062   \n",
              "std      0.266247    0.384384    0.127722    0.207293    0.233210    0.108382   \n",
              "min      1.000000    1.000000    1.794279    2.541442    1.000000    2.272538   \n",
              "25%      1.577721    1.000000    2.102742    2.962347    1.758571    2.503154   \n",
              "50%      1.731105    1.008600    2.162594    3.102663    1.872913    2.584422   \n",
              "75%      1.877596    1.511749    2.237239    3.254805    2.018471    2.644719   \n",
              "max      2.625282    2.749102    2.559811    3.526727    2.723685    2.845278   \n",
              "\n",
              "             3309        3310        3311  \n",
              "count  203.000000  203.000000  203.000000  \n",
              "mean     1.586416    2.469248    2.024278  \n",
              "std      0.537254    0.286999    0.269620  \n",
              "min      1.000000    1.627263    1.000000  \n",
              "25%      1.000000    2.296620    1.911400  \n",
              "50%      1.615055    2.535148    2.084433  \n",
              "75%      2.049759    2.647993    2.195581  \n",
              "max      2.903432    3.084301    2.575834  \n",
              "\n",
              "[8 rows x 3312 columns]"
            ],
            "text/html": [
              "\n",
              "  <div id=\"df-4f30539c-b8bc-491b-80de-046fa78c18ce\" class=\"colab-df-container\">\n",
              "    <div>\n",
              "<style scoped>\n",
              "    .dataframe tbody tr th:only-of-type {\n",
              "        vertical-align: middle;\n",
              "    }\n",
              "\n",
              "    .dataframe tbody tr th {\n",
              "        vertical-align: top;\n",
              "    }\n",
              "\n",
              "    .dataframe thead th {\n",
              "        text-align: right;\n",
              "    }\n",
              "</style>\n",
              "<table border=\"1\" class=\"dataframe\">\n",
              "  <thead>\n",
              "    <tr style=\"text-align: right;\">\n",
              "      <th></th>\n",
              "      <th>0</th>\n",
              "      <th>1</th>\n",
              "      <th>2</th>\n",
              "      <th>3</th>\n",
              "      <th>4</th>\n",
              "      <th>5</th>\n",
              "      <th>6</th>\n",
              "      <th>7</th>\n",
              "      <th>8</th>\n",
              "      <th>9</th>\n",
              "      <th>...</th>\n",
              "      <th>3302</th>\n",
              "      <th>3303</th>\n",
              "      <th>3304</th>\n",
              "      <th>3305</th>\n",
              "      <th>3306</th>\n",
              "      <th>3307</th>\n",
              "      <th>3308</th>\n",
              "      <th>3309</th>\n",
              "      <th>3310</th>\n",
              "      <th>3311</th>\n",
              "    </tr>\n",
              "  </thead>\n",
              "  <tbody>\n",
              "    <tr>\n",
              "      <th>count</th>\n",
              "      <td>203.000000</td>\n",
              "      <td>203.000000</td>\n",
              "      <td>203.000000</td>\n",
              "      <td>203.000000</td>\n",
              "      <td>203.000000</td>\n",
              "      <td>203.000000</td>\n",
              "      <td>203.000000</td>\n",
              "      <td>203.000000</td>\n",
              "      <td>203.000000</td>\n",
              "      <td>203.000000</td>\n",
              "      <td>...</td>\n",
              "      <td>203.000000</td>\n",
              "      <td>203.000000</td>\n",
              "      <td>203.000000</td>\n",
              "      <td>203.000000</td>\n",
              "      <td>203.000000</td>\n",
              "      <td>203.000000</td>\n",
              "      <td>203.000000</td>\n",
              "      <td>203.000000</td>\n",
              "      <td>203.000000</td>\n",
              "      <td>203.000000</td>\n",
              "    </tr>\n",
              "    <tr>\n",
              "      <th>mean</th>\n",
              "      <td>3.852954</td>\n",
              "      <td>1.897285</td>\n",
              "      <td>1.882023</td>\n",
              "      <td>2.456568</td>\n",
              "      <td>3.363554</td>\n",
              "      <td>3.370603</td>\n",
              "      <td>3.509625</td>\n",
              "      <td>3.474571</td>\n",
              "      <td>3.585993</td>\n",
              "      <td>3.624655</td>\n",
              "      <td>...</td>\n",
              "      <td>1.707262</td>\n",
              "      <td>1.750352</td>\n",
              "      <td>1.285979</td>\n",
              "      <td>2.173430</td>\n",
              "      <td>3.089952</td>\n",
              "      <td>1.874063</td>\n",
              "      <td>2.577062</td>\n",
              "      <td>1.586416</td>\n",
              "      <td>2.469248</td>\n",
              "      <td>2.024278</td>\n",
              "    </tr>\n",
              "    <tr>\n",
              "      <th>std</th>\n",
              "      <td>0.046501</td>\n",
              "      <td>0.373249</td>\n",
              "      <td>0.289968</td>\n",
              "      <td>0.226589</td>\n",
              "      <td>0.175697</td>\n",
              "      <td>0.173235</td>\n",
              "      <td>0.126212</td>\n",
              "      <td>0.118195</td>\n",
              "      <td>0.092053</td>\n",
              "      <td>0.067111</td>\n",
              "      <td>...</td>\n",
              "      <td>0.426523</td>\n",
              "      <td>0.266247</td>\n",
              "      <td>0.384384</td>\n",
              "      <td>0.127722</td>\n",
              "      <td>0.207293</td>\n",
              "      <td>0.233210</td>\n",
              "      <td>0.108382</td>\n",
              "      <td>0.537254</td>\n",
              "      <td>0.286999</td>\n",
              "      <td>0.269620</td>\n",
              "    </tr>\n",
              "    <tr>\n",
              "      <th>min</th>\n",
              "      <td>3.719071</td>\n",
              "      <td>1.000000</td>\n",
              "      <td>1.000000</td>\n",
              "      <td>1.794627</td>\n",
              "      <td>2.705282</td>\n",
              "      <td>2.894842</td>\n",
              "      <td>3.032066</td>\n",
              "      <td>2.988260</td>\n",
              "      <td>3.182261</td>\n",
              "      <td>3.313268</td>\n",
              "      <td>...</td>\n",
              "      <td>1.000000</td>\n",
              "      <td>1.000000</td>\n",
              "      <td>1.000000</td>\n",
              "      <td>1.794279</td>\n",
              "      <td>2.541442</td>\n",
              "      <td>1.000000</td>\n",
              "      <td>2.272538</td>\n",
              "      <td>1.000000</td>\n",
              "      <td>1.627263</td>\n",
              "      <td>1.000000</td>\n",
              "    </tr>\n",
              "    <tr>\n",
              "      <th>25%</th>\n",
              "      <td>3.821581</td>\n",
              "      <td>1.659363</td>\n",
              "      <td>1.710455</td>\n",
              "      <td>2.307828</td>\n",
              "      <td>3.265530</td>\n",
              "      <td>3.262582</td>\n",
              "      <td>3.434958</td>\n",
              "      <td>3.433452</td>\n",
              "      <td>3.549895</td>\n",
              "      <td>3.595060</td>\n",
              "      <td>...</td>\n",
              "      <td>1.421668</td>\n",
              "      <td>1.577721</td>\n",
              "      <td>1.000000</td>\n",
              "      <td>2.102742</td>\n",
              "      <td>2.962347</td>\n",
              "      <td>1.758571</td>\n",
              "      <td>2.503154</td>\n",
              "      <td>1.000000</td>\n",
              "      <td>2.296620</td>\n",
              "      <td>1.911400</td>\n",
              "    </tr>\n",
              "    <tr>\n",
              "      <th>50%</th>\n",
              "      <td>3.851614</td>\n",
              "      <td>1.965766</td>\n",
              "      <td>1.897517</td>\n",
              "      <td>2.447375</td>\n",
              "      <td>3.381507</td>\n",
              "      <td>3.389742</td>\n",
              "      <td>3.528263</td>\n",
              "      <td>3.494889</td>\n",
              "      <td>3.599013</td>\n",
              "      <td>3.634678</td>\n",
              "      <td>...</td>\n",
              "      <td>1.803389</td>\n",
              "      <td>1.731105</td>\n",
              "      <td>1.008600</td>\n",
              "      <td>2.162594</td>\n",
              "      <td>3.102663</td>\n",
              "      <td>1.872913</td>\n",
              "      <td>2.584422</td>\n",
              "      <td>1.615055</td>\n",
              "      <td>2.535148</td>\n",
              "      <td>2.084433</td>\n",
              "    </tr>\n",
              "    <tr>\n",
              "      <th>75%</th>\n",
              "      <td>3.884363</td>\n",
              "      <td>2.167347</td>\n",
              "      <td>2.092614</td>\n",
              "      <td>2.606816</td>\n",
              "      <td>3.470232</td>\n",
              "      <td>3.483416</td>\n",
              "      <td>3.596736</td>\n",
              "      <td>3.552158</td>\n",
              "      <td>3.647148</td>\n",
              "      <td>3.673326</td>\n",
              "      <td>...</td>\n",
              "      <td>2.048031</td>\n",
              "      <td>1.877596</td>\n",
              "      <td>1.511749</td>\n",
              "      <td>2.237239</td>\n",
              "      <td>3.254805</td>\n",
              "      <td>2.018471</td>\n",
              "      <td>2.644719</td>\n",
              "      <td>2.049759</td>\n",
              "      <td>2.647993</td>\n",
              "      <td>2.195581</td>\n",
              "    </tr>\n",
              "    <tr>\n",
              "      <th>max</th>\n",
              "      <td>3.972624</td>\n",
              "      <td>2.695455</td>\n",
              "      <td>2.618947</td>\n",
              "      <td>3.001301</td>\n",
              "      <td>3.719680</td>\n",
              "      <td>3.722039</td>\n",
              "      <td>3.736109</td>\n",
              "      <td>3.688640</td>\n",
              "      <td>3.742079</td>\n",
              "      <td>3.742775</td>\n",
              "      <td>...</td>\n",
              "      <td>2.409062</td>\n",
              "      <td>2.625282</td>\n",
              "      <td>2.749102</td>\n",
              "      <td>2.559811</td>\n",
              "      <td>3.526727</td>\n",
              "      <td>2.723685</td>\n",
              "      <td>2.845278</td>\n",
              "      <td>2.903432</td>\n",
              "      <td>3.084301</td>\n",
              "      <td>2.575834</td>\n",
              "    </tr>\n",
              "  </tbody>\n",
              "</table>\n",
              "<p>8 rows × 3312 columns</p>\n",
              "</div>\n",
              "    <div class=\"colab-df-buttons\">\n",
              "\n",
              "  <div class=\"colab-df-container\">\n",
              "    <button class=\"colab-df-convert\" onclick=\"convertToInteractive('df-4f30539c-b8bc-491b-80de-046fa78c18ce')\"\n",
              "            title=\"Convert this dataframe to an interactive table.\"\n",
              "            style=\"display:none;\">\n",
              "\n",
              "  <svg xmlns=\"http://www.w3.org/2000/svg\" height=\"24px\" viewBox=\"0 -960 960 960\">\n",
              "    <path d=\"M120-120v-720h720v720H120Zm60-500h600v-160H180v160Zm220 220h160v-160H400v160Zm0 220h160v-160H400v160ZM180-400h160v-160H180v160Zm440 0h160v-160H620v160ZM180-180h160v-160H180v160Zm440 0h160v-160H620v160Z\"/>\n",
              "  </svg>\n",
              "    </button>\n",
              "\n",
              "  <style>\n",
              "    .colab-df-container {\n",
              "      display:flex;\n",
              "      gap: 12px;\n",
              "    }\n",
              "\n",
              "    .colab-df-convert {\n",
              "      background-color: #E8F0FE;\n",
              "      border: none;\n",
              "      border-radius: 50%;\n",
              "      cursor: pointer;\n",
              "      display: none;\n",
              "      fill: #1967D2;\n",
              "      height: 32px;\n",
              "      padding: 0 0 0 0;\n",
              "      width: 32px;\n",
              "    }\n",
              "\n",
              "    .colab-df-convert:hover {\n",
              "      background-color: #E2EBFA;\n",
              "      box-shadow: 0px 1px 2px rgba(60, 64, 67, 0.3), 0px 1px 3px 1px rgba(60, 64, 67, 0.15);\n",
              "      fill: #174EA6;\n",
              "    }\n",
              "\n",
              "    .colab-df-buttons div {\n",
              "      margin-bottom: 4px;\n",
              "    }\n",
              "\n",
              "    [theme=dark] .colab-df-convert {\n",
              "      background-color: #3B4455;\n",
              "      fill: #D2E3FC;\n",
              "    }\n",
              "\n",
              "    [theme=dark] .colab-df-convert:hover {\n",
              "      background-color: #434B5C;\n",
              "      box-shadow: 0px 1px 3px 1px rgba(0, 0, 0, 0.15);\n",
              "      filter: drop-shadow(0px 1px 2px rgba(0, 0, 0, 0.3));\n",
              "      fill: #FFFFFF;\n",
              "    }\n",
              "  </style>\n",
              "\n",
              "    <script>\n",
              "      const buttonEl =\n",
              "        document.querySelector('#df-4f30539c-b8bc-491b-80de-046fa78c18ce button.colab-df-convert');\n",
              "      buttonEl.style.display =\n",
              "        google.colab.kernel.accessAllowed ? 'block' : 'none';\n",
              "\n",
              "      async function convertToInteractive(key) {\n",
              "        const element = document.querySelector('#df-4f30539c-b8bc-491b-80de-046fa78c18ce');\n",
              "        const dataTable =\n",
              "          await google.colab.kernel.invokeFunction('convertToInteractive',\n",
              "                                                    [key], {});\n",
              "        if (!dataTable) return;\n",
              "\n",
              "        const docLinkHtml = 'Like what you see? Visit the ' +\n",
              "          '<a target=\"_blank\" href=https://colab.research.google.com/notebooks/data_table.ipynb>data table notebook</a>'\n",
              "          + ' to learn more about interactive tables.';\n",
              "        element.innerHTML = '';\n",
              "        dataTable['output_type'] = 'display_data';\n",
              "        await google.colab.output.renderOutput(dataTable, element);\n",
              "        const docLink = document.createElement('div');\n",
              "        docLink.innerHTML = docLinkHtml;\n",
              "        element.appendChild(docLink);\n",
              "      }\n",
              "    </script>\n",
              "  </div>\n",
              "\n",
              "\n",
              "<div id=\"df-16ce95c1-9c43-4a3a-852e-267def27ad33\">\n",
              "  <button class=\"colab-df-quickchart\" onclick=\"quickchart('df-16ce95c1-9c43-4a3a-852e-267def27ad33')\"\n",
              "            title=\"Suggest charts.\"\n",
              "            style=\"display:none;\">\n",
              "\n",
              "<svg xmlns=\"http://www.w3.org/2000/svg\" height=\"24px\"viewBox=\"0 0 24 24\"\n",
              "     width=\"24px\">\n",
              "    <g>\n",
              "        <path d=\"M19 3H5c-1.1 0-2 .9-2 2v14c0 1.1.9 2 2 2h14c1.1 0 2-.9 2-2V5c0-1.1-.9-2-2-2zM9 17H7v-7h2v7zm4 0h-2V7h2v10zm4 0h-2v-4h2v4z\"/>\n",
              "    </g>\n",
              "</svg>\n",
              "  </button>\n",
              "\n",
              "<style>\n",
              "  .colab-df-quickchart {\n",
              "      --bg-color: #E8F0FE;\n",
              "      --fill-color: #1967D2;\n",
              "      --hover-bg-color: #E2EBFA;\n",
              "      --hover-fill-color: #174EA6;\n",
              "      --disabled-fill-color: #AAA;\n",
              "      --disabled-bg-color: #DDD;\n",
              "  }\n",
              "\n",
              "  [theme=dark] .colab-df-quickchart {\n",
              "      --bg-color: #3B4455;\n",
              "      --fill-color: #D2E3FC;\n",
              "      --hover-bg-color: #434B5C;\n",
              "      --hover-fill-color: #FFFFFF;\n",
              "      --disabled-bg-color: #3B4455;\n",
              "      --disabled-fill-color: #666;\n",
              "  }\n",
              "\n",
              "  .colab-df-quickchart {\n",
              "    background-color: var(--bg-color);\n",
              "    border: none;\n",
              "    border-radius: 50%;\n",
              "    cursor: pointer;\n",
              "    display: none;\n",
              "    fill: var(--fill-color);\n",
              "    height: 32px;\n",
              "    padding: 0;\n",
              "    width: 32px;\n",
              "  }\n",
              "\n",
              "  .colab-df-quickchart:hover {\n",
              "    background-color: var(--hover-bg-color);\n",
              "    box-shadow: 0 1px 2px rgba(60, 64, 67, 0.3), 0 1px 3px 1px rgba(60, 64, 67, 0.15);\n",
              "    fill: var(--button-hover-fill-color);\n",
              "  }\n",
              "\n",
              "  .colab-df-quickchart-complete:disabled,\n",
              "  .colab-df-quickchart-complete:disabled:hover {\n",
              "    background-color: var(--disabled-bg-color);\n",
              "    fill: var(--disabled-fill-color);\n",
              "    box-shadow: none;\n",
              "  }\n",
              "\n",
              "  .colab-df-spinner {\n",
              "    border: 2px solid var(--fill-color);\n",
              "    border-color: transparent;\n",
              "    border-bottom-color: var(--fill-color);\n",
              "    animation:\n",
              "      spin 1s steps(1) infinite;\n",
              "  }\n",
              "\n",
              "  @keyframes spin {\n",
              "    0% {\n",
              "      border-color: transparent;\n",
              "      border-bottom-color: var(--fill-color);\n",
              "      border-left-color: var(--fill-color);\n",
              "    }\n",
              "    20% {\n",
              "      border-color: transparent;\n",
              "      border-left-color: var(--fill-color);\n",
              "      border-top-color: var(--fill-color);\n",
              "    }\n",
              "    30% {\n",
              "      border-color: transparent;\n",
              "      border-left-color: var(--fill-color);\n",
              "      border-top-color: var(--fill-color);\n",
              "      border-right-color: var(--fill-color);\n",
              "    }\n",
              "    40% {\n",
              "      border-color: transparent;\n",
              "      border-right-color: var(--fill-color);\n",
              "      border-top-color: var(--fill-color);\n",
              "    }\n",
              "    60% {\n",
              "      border-color: transparent;\n",
              "      border-right-color: var(--fill-color);\n",
              "    }\n",
              "    80% {\n",
              "      border-color: transparent;\n",
              "      border-right-color: var(--fill-color);\n",
              "      border-bottom-color: var(--fill-color);\n",
              "    }\n",
              "    90% {\n",
              "      border-color: transparent;\n",
              "      border-bottom-color: var(--fill-color);\n",
              "    }\n",
              "  }\n",
              "</style>\n",
              "\n",
              "  <script>\n",
              "    async function quickchart(key) {\n",
              "      const quickchartButtonEl =\n",
              "        document.querySelector('#' + key + ' button');\n",
              "      quickchartButtonEl.disabled = true;  // To prevent multiple clicks.\n",
              "      quickchartButtonEl.classList.add('colab-df-spinner');\n",
              "      try {\n",
              "        const charts = await google.colab.kernel.invokeFunction(\n",
              "            'suggestCharts', [key], {});\n",
              "      } catch (error) {\n",
              "        console.error('Error during call to suggestCharts:', error);\n",
              "      }\n",
              "      quickchartButtonEl.classList.remove('colab-df-spinner');\n",
              "      quickchartButtonEl.classList.add('colab-df-quickchart-complete');\n",
              "    }\n",
              "    (() => {\n",
              "      let quickchartButtonEl =\n",
              "        document.querySelector('#df-16ce95c1-9c43-4a3a-852e-267def27ad33 button');\n",
              "      quickchartButtonEl.style.display =\n",
              "        google.colab.kernel.accessAllowed ? 'block' : 'none';\n",
              "    })();\n",
              "  </script>\n",
              "</div>\n",
              "    </div>\n",
              "  </div>\n"
            ]
          },
          "metadata": {},
          "execution_count": 2
        }
      ]
    },
    {
      "cell_type": "code",
      "source": [
        "#Print the number of samples and the number of features\n",
        "#RangeIndex = samples, Columns = features)\n",
        "X_lung.info()"
      ],
      "metadata": {
        "colab": {
          "base_uri": "https://localhost:8080/"
        },
        "outputId": "2b7f9431-48c8-481c-e0d6-e7450e0fb879",
        "id": "TWIFniIsfKjj"
      },
      "execution_count": null,
      "outputs": [
        {
          "output_type": "stream",
          "name": "stdout",
          "text": [
            "<class 'pandas.core.frame.DataFrame'>\n",
            "RangeIndex: 203 entries, 0 to 202\n",
            "Columns: 3312 entries, 0 to 3311\n",
            "dtypes: float64(3312)\n",
            "memory usage: 5.1 MB\n"
          ]
        }
      ]
    },
    {
      "cell_type": "code",
      "source": [
        "#Print the number of classes\n",
        "print(Y_lung.value_counts(),Y_lung.info())"
      ],
      "metadata": {
        "colab": {
          "base_uri": "https://localhost:8080/"
        },
        "outputId": "e15f72b3-26bd-4e04-c756-9a9dc3cc40b6",
        "id": "B8oq1ZMPfKjk"
      },
      "execution_count": null,
      "outputs": [
        {
          "output_type": "stream",
          "name": "stdout",
          "text": [
            "<class 'pandas.core.frame.DataFrame'>\n",
            "RangeIndex: 203 entries, 0 to 202\n",
            "Data columns (total 1 columns):\n",
            " #   Column  Non-Null Count  Dtype\n",
            "---  ------  --------------  -----\n",
            " 0   0       203 non-null    uint8\n",
            "dtypes: uint8(1)\n",
            "memory usage: 331.0 bytes\n",
            "1    139\n",
            "3     21\n",
            "4     20\n",
            "2     17\n",
            "5      6\n",
            "dtype: int64 None\n"
          ]
        }
      ]
    },
    {
      "cell_type": "markdown",
      "source": [
        "Step 3: Split the Dataset"
      ],
      "metadata": {
        "id": "Fy-upCAIfKjl"
      }
    },
    {
      "cell_type": "code",
      "source": [
        "#Spilt data 20% testing and 80% training\n",
        "x_train, x_test, y_train, y_test = train_test_split(X_lung, Y_lung, test_size = 0.2 , random_state = 0)\n",
        "#(training samples , All data) (testing samples , All data)\n",
        "print(x_train.shape,x_test.shape)"
      ],
      "metadata": {
        "colab": {
          "base_uri": "https://localhost:8080/"
        },
        "outputId": "da48deda-787a-41d0-d9b3-566f587e048d",
        "id": "GOBreZRFfKjl"
      },
      "execution_count": null,
      "outputs": [
        {
          "output_type": "stream",
          "name": "stdout",
          "text": [
            "(162, 3312) (41, 3312)\n"
          ]
        }
      ]
    },
    {
      "cell_type": "markdown",
      "source": [
        "Step 4: Naïve Bayes Classifier"
      ],
      "metadata": {
        "id": "L1SQg5dYfKjl"
      }
    },
    {
      "cell_type": "markdown",
      "source": [
        "*a. Train a Naïve Bayes classifier on the training set.italicised text*"
      ],
      "metadata": {
        "id": "9pAwekctfKjm"
      }
    },
    {
      "cell_type": "code",
      "source": [
        "# instantiate the model\n",
        "GNP = GaussianNB()\n",
        "# fit the model\n",
        "\n",
        "GNP.fit(x_train, y_train)\n",
        "StartTime = time.time()\n",
        "predictions = GNP.predict(x_test)\n",
        "EndTime = time.time()\n",
        "ElapsedTime = EndTime - StartTime\n",
        "print(f\"Elapsed time: {ElapsedTime} seconds\")\n",
        "predictions"
      ],
      "metadata": {
        "colab": {
          "base_uri": "https://localhost:8080/"
        },
        "outputId": "3149960f-8742-4f61-8217-559381d17164",
        "id": "LhMut4igfKjm"
      },
      "execution_count": null,
      "outputs": [
        {
          "output_type": "stream",
          "name": "stdout",
          "text": [
            "Elapsed time: 0.037194013595581055 seconds\n"
          ]
        },
        {
          "output_type": "stream",
          "name": "stderr",
          "text": [
            "/usr/local/lib/python3.10/dist-packages/sklearn/utils/validation.py:1143: DataConversionWarning: A column-vector y was passed when a 1d array was expected. Please change the shape of y to (n_samples, ), for example using ravel().\n",
            "  y = column_or_1d(y, warn=True)\n"
          ]
        },
        {
          "output_type": "execute_result",
          "data": {
            "text/plain": [
              "array([1, 1, 1, 1, 1, 1, 1, 1, 1, 1, 1, 4, 1, 4, 1, 1, 1, 1, 1, 1, 1, 1,\n",
              "       1, 1, 1, 1, 4, 1, 1, 1, 4, 1, 1, 1, 1, 1, 1, 1, 1, 3, 1],\n",
              "      dtype=uint8)"
            ]
          },
          "metadata": {},
          "execution_count": 6
        }
      ]
    },
    {
      "cell_type": "markdown",
      "source": [
        "*b. Make predictions on the testing set.*"
      ],
      "metadata": {
        "id": "QY_4jf__fKjn"
      }
    },
    {
      "cell_type": "code",
      "source": [
        "#print the accuracy, computation time, average and standard deviation\n",
        "print(\"Accuracy Score :\", 1 - accuracy_score(predictions, y_test))\n",
        "print(f\"Elapsed time : {ElapsedTime} seconds\")\n",
        "print(\"average : \", np.average(predictions))\n",
        "print(\"Standard Deviation : \", np.std(predictions))"
      ],
      "metadata": {
        "colab": {
          "base_uri": "https://localhost:8080/"
        },
        "outputId": "54bd1c00-290e-4c58-d1f0-736e0703f48f",
        "id": "ZC6klRO7fKjn"
      },
      "execution_count": null,
      "outputs": [
        {
          "output_type": "stream",
          "name": "stdout",
          "text": [
            "Accuracy Score : 0.19512195121951215\n",
            "Elapsed time : 0.037194013595581055 seconds\n",
            "average :  1.3414634146341464\n",
            "Standard Deviation :  0.9268292682926829\n"
          ]
        }
      ]
    },
    {
      "cell_type": "markdown",
      "source": [
        "Step 5: k-NN Classifier"
      ],
      "metadata": {
        "id": "cKZvjq1nfKjo"
      }
    },
    {
      "cell_type": "markdown",
      "source": [
        "a.Run k-NN classifier for k value = 1"
      ],
      "metadata": {
        "id": "tIFA3GvNfKjo"
      }
    },
    {
      "cell_type": "code",
      "source": [
        "# instantiate the model\n",
        "knn = KNeighborsClassifier(1)\n",
        "# fit the model\n",
        "knn.fit(x_train, y_train)\n",
        "StartTime = time.time()\n",
        "predictions = knn.predict(x_test)\n",
        "EndTime = time.time()\n",
        "elapsed_time = EndTime - StartTime\n",
        "\n",
        "#print the accuracy and computation time\n",
        "print(\"Accuracy Score :\", 1 - accuracy_score(predictions, y_test))\n",
        "print(f\"Elapsed time : {ElapsedTime} seconds\")"
      ],
      "metadata": {
        "colab": {
          "base_uri": "https://localhost:8080/"
        },
        "outputId": "7f50246d-0f1b-4912-988a-f9f7710e833e",
        "id": "j_d0a2F2fKjp"
      },
      "execution_count": null,
      "outputs": [
        {
          "output_type": "stream",
          "name": "stderr",
          "text": [
            "/usr/local/lib/python3.10/dist-packages/sklearn/neighbors/_classification.py:215: DataConversionWarning: A column-vector y was passed when a 1d array was expected. Please change the shape of y to (n_samples,), for example using ravel().\n",
            "  return self._fit(X, y)\n"
          ]
        },
        {
          "output_type": "stream",
          "name": "stdout",
          "text": [
            "Accuracy Score : 0.07317073170731703\n",
            "Elapsed time : 0.037194013595581055 seconds\n"
          ]
        }
      ]
    },
    {
      "cell_type": "markdown",
      "source": [
        "b.Run k-NN classifier for k value = 3"
      ],
      "metadata": {
        "id": "mhQ2ILfUfKjp"
      }
    },
    {
      "cell_type": "code",
      "source": [
        "# instantiate the model\n",
        "knn = KNeighborsClassifier(3)\n",
        "# fit the model\n",
        "knn.fit(x_train, y_train)\n",
        "StartTime = time.time()\n",
        "predictions = knn.predict(x_test)\n",
        "EndTime = time.time()\n",
        "elapsed_time = EndTime - StartTime\n",
        "\n",
        "#print the accuracy and computation time\n",
        "print(\"Accuracy Score :\", 1 - accuracy_score(predictions, y_test))\n",
        "print(f\"Elapsed time : {ElapsedTime} seconds\")"
      ],
      "metadata": {
        "colab": {
          "base_uri": "https://localhost:8080/"
        },
        "outputId": "aa6181c8-8e68-474f-b373-4ba9141e3557",
        "id": "hrV40M94fKjp"
      },
      "execution_count": null,
      "outputs": [
        {
          "output_type": "stream",
          "name": "stdout",
          "text": [
            "Accuracy Score : 0.07317073170731703\n",
            "Elapsed time : 0.037194013595581055 seconds\n"
          ]
        },
        {
          "output_type": "stream",
          "name": "stderr",
          "text": [
            "/usr/local/lib/python3.10/dist-packages/sklearn/neighbors/_classification.py:215: DataConversionWarning: A column-vector y was passed when a 1d array was expected. Please change the shape of y to (n_samples,), for example using ravel().\n",
            "  return self._fit(X, y)\n"
          ]
        }
      ]
    },
    {
      "cell_type": "markdown",
      "source": [
        "c.Run k-NN classifier for k value = 7"
      ],
      "metadata": {
        "id": "GDOjHjxRfKjq"
      }
    },
    {
      "cell_type": "code",
      "source": [
        "# instantiate the model\n",
        "knn = KNeighborsClassifier(7)\n",
        "# fit the model\n",
        "knn.fit(x_train, y_train)\n",
        "StartTime = time.time()\n",
        "predictions = knn.predict(x_test)\n",
        "EndTime = time.time()\n",
        "elapsed_time = EndTime - StartTime\n",
        "\n",
        "#print the accuracy and computation time\n",
        "print(\"Accuracy Score :\", 1 - accuracy_score(predictions, y_test))\n",
        "print(f\"Elapsed time : {ElapsedTime} seconds\")"
      ],
      "metadata": {
        "colab": {
          "base_uri": "https://localhost:8080/"
        },
        "outputId": "d9f5aeb4-0623-4ee6-a800-c4e1505e2c57",
        "id": "pkmb4uwVfKjq"
      },
      "execution_count": null,
      "outputs": [
        {
          "output_type": "stream",
          "name": "stdout",
          "text": [
            "Accuracy Score : 0.07317073170731703\n",
            "Elapsed time : 0.037194013595581055 seconds\n"
          ]
        },
        {
          "output_type": "stream",
          "name": "stderr",
          "text": [
            "/usr/local/lib/python3.10/dist-packages/sklearn/neighbors/_classification.py:215: DataConversionWarning: A column-vector y was passed when a 1d array was expected. Please change the shape of y to (n_samples,), for example using ravel().\n",
            "  return self._fit(X, y)\n"
          ]
        }
      ]
    },
    {
      "cell_type": "markdown",
      "source": [
        "##**Isolet.mat file**\n"
      ],
      "metadata": {
        "id": "mEqAPg6aTQa-"
      }
    },
    {
      "cell_type": "markdown",
      "source": [
        "Step 1: Load the Dataset"
      ],
      "metadata": {
        "id": "daadsrFnTQbJ"
      }
    },
    {
      "cell_type": "code",
      "source": [
        "# Load pakages and Library for working\n",
        "from sklearn.model_selection import train_test_split\n",
        "# train a Gaussian Naive Bayes classifier on the training set\n",
        "from sklearn.naive_bayes import GaussianNB\n",
        "# import a KNeighbors classifier\n",
        "from sklearn.neighbors import KNeighborsClassifier\n",
        "# Test Accuracy\n",
        "from sklearn.metrics import accuracy_score\n",
        "# import time module to calc classification time in second\n",
        "import time\n",
        "# import the NumPy module\n",
        "import numpy as np\n",
        "# import the classification report module\n",
        "from sklearn.metrics import classification_report\n",
        "\n",
        "\n",
        "\n",
        "\n",
        "\n",
        "# Load the .mat file\n",
        "from scipy.io import loadmat\n",
        "import pandas as pd\n",
        "\n",
        "Isolet = loadmat('/content/Isolet(1).mat')\n"
      ],
      "metadata": {
        "id": "7d183B3CTQbK"
      },
      "execution_count": null,
      "outputs": []
    },
    {
      "cell_type": "markdown",
      "source": [
        "Step 2: Data Exploration"
      ],
      "metadata": {
        "id": "5muYeZ30TQbM"
      }
    },
    {
      "cell_type": "code",
      "source": [
        "x = pd.DataFrame(Isolet['X'])\n",
        "y = pd.DataFrame(Isolet['Y'])\n",
        "\n",
        "#Print descriptive analysis about dataset\n",
        "x.describe()"
      ],
      "metadata": {
        "colab": {
          "base_uri": "https://localhost:8080/",
          "height": 346
        },
        "outputId": "60c2d195-3def-4771-e388-1fd067af3d9f",
        "id": "_nOsBQb4TQbN"
      },
      "execution_count": null,
      "outputs": [
        {
          "output_type": "execute_result",
          "data": {
            "text/plain": [
              "               0            1            2            3            4    \\\n",
              "count  1560.000000  1560.000000  1560.000000  1560.000000  1560.000000   \n",
              "mean     -0.352255     0.216822     0.381779     0.449188     0.390882   \n",
              "std       0.268956     0.345982     0.335157     0.320194     0.393687   \n",
              "min      -1.000000    -0.721600    -0.858800    -0.968000    -0.913400   \n",
              "25%      -0.532450    -0.031500     0.136600     0.249000     0.176600   \n",
              "50%      -0.351900     0.174400     0.345400     0.453700     0.456500   \n",
              "75%      -0.175950     0.452500     0.632800     0.679600     0.692600   \n",
              "max       0.840000     1.000000     1.000000     1.000000     1.000000   \n",
              "\n",
              "               5            6            7            8            9    ...  \\\n",
              "count  1560.000000  1560.000000  1560.000000  1560.000000  1560.000000  ...   \n",
              "mean      0.278666     0.197792     0.088165    -0.005391    -0.076504  ...   \n",
              "std       0.526396     0.539334     0.503402     0.493222     0.492835  ...   \n",
              "min      -0.940800    -0.990400    -0.971800    -0.986200    -1.000000  ...   \n",
              "25%      -0.137150    -0.268750    -0.321500    -0.416450    -0.466700  ...   \n",
              "50%       0.365000     0.219700     0.065500    -0.037000    -0.108700  ...   \n",
              "75%       0.736500     0.691000     0.496250     0.341900     0.234100  ...   \n",
              "max       1.000000     1.000000     1.000000     1.000000     1.000000  ...   \n",
              "\n",
              "               607          608          609          610          611  \\\n",
              "count  1560.000000  1560.000000  1560.000000  1560.000000  1560.000000   \n",
              "mean      0.409187     0.362451     0.296515     0.277845     0.285129   \n",
              "std       0.320851     0.318095     0.329547     0.343738     0.358508   \n",
              "min      -0.495000    -0.660800    -0.533400    -0.661200    -0.711800   \n",
              "25%       0.177300     0.122000     0.050450     0.020800     0.017150   \n",
              "50%       0.406000     0.359200     0.274100     0.250000     0.245100   \n",
              "75%       0.653600     0.606800     0.541150     0.533500     0.558500   \n",
              "max       1.000000     1.000000     1.000000     1.000000     1.000000   \n",
              "\n",
              "               612          613          614          615          616  \n",
              "count  1560.000000  1560.000000  1560.000000  1560.000000  1560.000000  \n",
              "mean      0.263708     0.207242     0.180301     0.094831    -0.257722  \n",
              "std       0.353277     0.359532     0.364925     0.352304     0.370798  \n",
              "min      -0.543800    -0.790600    -0.763600    -0.802800    -0.946000  \n",
              "25%      -0.009100    -0.056700    -0.086200    -0.149000    -0.531900  \n",
              "50%       0.232400     0.164400     0.140200     0.051900    -0.315600  \n",
              "75%       0.521050     0.460250     0.415250     0.321400    -0.049650  \n",
              "max       1.000000     1.000000     1.000000     1.000000     0.889800  \n",
              "\n",
              "[8 rows x 617 columns]"
            ],
            "text/html": [
              "\n",
              "  <div id=\"df-e1bdefd4-261b-4874-80ef-05f99bcf3bd1\" class=\"colab-df-container\">\n",
              "    <div>\n",
              "<style scoped>\n",
              "    .dataframe tbody tr th:only-of-type {\n",
              "        vertical-align: middle;\n",
              "    }\n",
              "\n",
              "    .dataframe tbody tr th {\n",
              "        vertical-align: top;\n",
              "    }\n",
              "\n",
              "    .dataframe thead th {\n",
              "        text-align: right;\n",
              "    }\n",
              "</style>\n",
              "<table border=\"1\" class=\"dataframe\">\n",
              "  <thead>\n",
              "    <tr style=\"text-align: right;\">\n",
              "      <th></th>\n",
              "      <th>0</th>\n",
              "      <th>1</th>\n",
              "      <th>2</th>\n",
              "      <th>3</th>\n",
              "      <th>4</th>\n",
              "      <th>5</th>\n",
              "      <th>6</th>\n",
              "      <th>7</th>\n",
              "      <th>8</th>\n",
              "      <th>9</th>\n",
              "      <th>...</th>\n",
              "      <th>607</th>\n",
              "      <th>608</th>\n",
              "      <th>609</th>\n",
              "      <th>610</th>\n",
              "      <th>611</th>\n",
              "      <th>612</th>\n",
              "      <th>613</th>\n",
              "      <th>614</th>\n",
              "      <th>615</th>\n",
              "      <th>616</th>\n",
              "    </tr>\n",
              "  </thead>\n",
              "  <tbody>\n",
              "    <tr>\n",
              "      <th>count</th>\n",
              "      <td>1560.000000</td>\n",
              "      <td>1560.000000</td>\n",
              "      <td>1560.000000</td>\n",
              "      <td>1560.000000</td>\n",
              "      <td>1560.000000</td>\n",
              "      <td>1560.000000</td>\n",
              "      <td>1560.000000</td>\n",
              "      <td>1560.000000</td>\n",
              "      <td>1560.000000</td>\n",
              "      <td>1560.000000</td>\n",
              "      <td>...</td>\n",
              "      <td>1560.000000</td>\n",
              "      <td>1560.000000</td>\n",
              "      <td>1560.000000</td>\n",
              "      <td>1560.000000</td>\n",
              "      <td>1560.000000</td>\n",
              "      <td>1560.000000</td>\n",
              "      <td>1560.000000</td>\n",
              "      <td>1560.000000</td>\n",
              "      <td>1560.000000</td>\n",
              "      <td>1560.000000</td>\n",
              "    </tr>\n",
              "    <tr>\n",
              "      <th>mean</th>\n",
              "      <td>-0.352255</td>\n",
              "      <td>0.216822</td>\n",
              "      <td>0.381779</td>\n",
              "      <td>0.449188</td>\n",
              "      <td>0.390882</td>\n",
              "      <td>0.278666</td>\n",
              "      <td>0.197792</td>\n",
              "      <td>0.088165</td>\n",
              "      <td>-0.005391</td>\n",
              "      <td>-0.076504</td>\n",
              "      <td>...</td>\n",
              "      <td>0.409187</td>\n",
              "      <td>0.362451</td>\n",
              "      <td>0.296515</td>\n",
              "      <td>0.277845</td>\n",
              "      <td>0.285129</td>\n",
              "      <td>0.263708</td>\n",
              "      <td>0.207242</td>\n",
              "      <td>0.180301</td>\n",
              "      <td>0.094831</td>\n",
              "      <td>-0.257722</td>\n",
              "    </tr>\n",
              "    <tr>\n",
              "      <th>std</th>\n",
              "      <td>0.268956</td>\n",
              "      <td>0.345982</td>\n",
              "      <td>0.335157</td>\n",
              "      <td>0.320194</td>\n",
              "      <td>0.393687</td>\n",
              "      <td>0.526396</td>\n",
              "      <td>0.539334</td>\n",
              "      <td>0.503402</td>\n",
              "      <td>0.493222</td>\n",
              "      <td>0.492835</td>\n",
              "      <td>...</td>\n",
              "      <td>0.320851</td>\n",
              "      <td>0.318095</td>\n",
              "      <td>0.329547</td>\n",
              "      <td>0.343738</td>\n",
              "      <td>0.358508</td>\n",
              "      <td>0.353277</td>\n",
              "      <td>0.359532</td>\n",
              "      <td>0.364925</td>\n",
              "      <td>0.352304</td>\n",
              "      <td>0.370798</td>\n",
              "    </tr>\n",
              "    <tr>\n",
              "      <th>min</th>\n",
              "      <td>-1.000000</td>\n",
              "      <td>-0.721600</td>\n",
              "      <td>-0.858800</td>\n",
              "      <td>-0.968000</td>\n",
              "      <td>-0.913400</td>\n",
              "      <td>-0.940800</td>\n",
              "      <td>-0.990400</td>\n",
              "      <td>-0.971800</td>\n",
              "      <td>-0.986200</td>\n",
              "      <td>-1.000000</td>\n",
              "      <td>...</td>\n",
              "      <td>-0.495000</td>\n",
              "      <td>-0.660800</td>\n",
              "      <td>-0.533400</td>\n",
              "      <td>-0.661200</td>\n",
              "      <td>-0.711800</td>\n",
              "      <td>-0.543800</td>\n",
              "      <td>-0.790600</td>\n",
              "      <td>-0.763600</td>\n",
              "      <td>-0.802800</td>\n",
              "      <td>-0.946000</td>\n",
              "    </tr>\n",
              "    <tr>\n",
              "      <th>25%</th>\n",
              "      <td>-0.532450</td>\n",
              "      <td>-0.031500</td>\n",
              "      <td>0.136600</td>\n",
              "      <td>0.249000</td>\n",
              "      <td>0.176600</td>\n",
              "      <td>-0.137150</td>\n",
              "      <td>-0.268750</td>\n",
              "      <td>-0.321500</td>\n",
              "      <td>-0.416450</td>\n",
              "      <td>-0.466700</td>\n",
              "      <td>...</td>\n",
              "      <td>0.177300</td>\n",
              "      <td>0.122000</td>\n",
              "      <td>0.050450</td>\n",
              "      <td>0.020800</td>\n",
              "      <td>0.017150</td>\n",
              "      <td>-0.009100</td>\n",
              "      <td>-0.056700</td>\n",
              "      <td>-0.086200</td>\n",
              "      <td>-0.149000</td>\n",
              "      <td>-0.531900</td>\n",
              "    </tr>\n",
              "    <tr>\n",
              "      <th>50%</th>\n",
              "      <td>-0.351900</td>\n",
              "      <td>0.174400</td>\n",
              "      <td>0.345400</td>\n",
              "      <td>0.453700</td>\n",
              "      <td>0.456500</td>\n",
              "      <td>0.365000</td>\n",
              "      <td>0.219700</td>\n",
              "      <td>0.065500</td>\n",
              "      <td>-0.037000</td>\n",
              "      <td>-0.108700</td>\n",
              "      <td>...</td>\n",
              "      <td>0.406000</td>\n",
              "      <td>0.359200</td>\n",
              "      <td>0.274100</td>\n",
              "      <td>0.250000</td>\n",
              "      <td>0.245100</td>\n",
              "      <td>0.232400</td>\n",
              "      <td>0.164400</td>\n",
              "      <td>0.140200</td>\n",
              "      <td>0.051900</td>\n",
              "      <td>-0.315600</td>\n",
              "    </tr>\n",
              "    <tr>\n",
              "      <th>75%</th>\n",
              "      <td>-0.175950</td>\n",
              "      <td>0.452500</td>\n",
              "      <td>0.632800</td>\n",
              "      <td>0.679600</td>\n",
              "      <td>0.692600</td>\n",
              "      <td>0.736500</td>\n",
              "      <td>0.691000</td>\n",
              "      <td>0.496250</td>\n",
              "      <td>0.341900</td>\n",
              "      <td>0.234100</td>\n",
              "      <td>...</td>\n",
              "      <td>0.653600</td>\n",
              "      <td>0.606800</td>\n",
              "      <td>0.541150</td>\n",
              "      <td>0.533500</td>\n",
              "      <td>0.558500</td>\n",
              "      <td>0.521050</td>\n",
              "      <td>0.460250</td>\n",
              "      <td>0.415250</td>\n",
              "      <td>0.321400</td>\n",
              "      <td>-0.049650</td>\n",
              "    </tr>\n",
              "    <tr>\n",
              "      <th>max</th>\n",
              "      <td>0.840000</td>\n",
              "      <td>1.000000</td>\n",
              "      <td>1.000000</td>\n",
              "      <td>1.000000</td>\n",
              "      <td>1.000000</td>\n",
              "      <td>1.000000</td>\n",
              "      <td>1.000000</td>\n",
              "      <td>1.000000</td>\n",
              "      <td>1.000000</td>\n",
              "      <td>1.000000</td>\n",
              "      <td>...</td>\n",
              "      <td>1.000000</td>\n",
              "      <td>1.000000</td>\n",
              "      <td>1.000000</td>\n",
              "      <td>1.000000</td>\n",
              "      <td>1.000000</td>\n",
              "      <td>1.000000</td>\n",
              "      <td>1.000000</td>\n",
              "      <td>1.000000</td>\n",
              "      <td>1.000000</td>\n",
              "      <td>0.889800</td>\n",
              "    </tr>\n",
              "  </tbody>\n",
              "</table>\n",
              "<p>8 rows × 617 columns</p>\n",
              "</div>\n",
              "    <div class=\"colab-df-buttons\">\n",
              "\n",
              "  <div class=\"colab-df-container\">\n",
              "    <button class=\"colab-df-convert\" onclick=\"convertToInteractive('df-e1bdefd4-261b-4874-80ef-05f99bcf3bd1')\"\n",
              "            title=\"Convert this dataframe to an interactive table.\"\n",
              "            style=\"display:none;\">\n",
              "\n",
              "  <svg xmlns=\"http://www.w3.org/2000/svg\" height=\"24px\" viewBox=\"0 -960 960 960\">\n",
              "    <path d=\"M120-120v-720h720v720H120Zm60-500h600v-160H180v160Zm220 220h160v-160H400v160Zm0 220h160v-160H400v160ZM180-400h160v-160H180v160Zm440 0h160v-160H620v160ZM180-180h160v-160H180v160Zm440 0h160v-160H620v160Z\"/>\n",
              "  </svg>\n",
              "    </button>\n",
              "\n",
              "  <style>\n",
              "    .colab-df-container {\n",
              "      display:flex;\n",
              "      gap: 12px;\n",
              "    }\n",
              "\n",
              "    .colab-df-convert {\n",
              "      background-color: #E8F0FE;\n",
              "      border: none;\n",
              "      border-radius: 50%;\n",
              "      cursor: pointer;\n",
              "      display: none;\n",
              "      fill: #1967D2;\n",
              "      height: 32px;\n",
              "      padding: 0 0 0 0;\n",
              "      width: 32px;\n",
              "    }\n",
              "\n",
              "    .colab-df-convert:hover {\n",
              "      background-color: #E2EBFA;\n",
              "      box-shadow: 0px 1px 2px rgba(60, 64, 67, 0.3), 0px 1px 3px 1px rgba(60, 64, 67, 0.15);\n",
              "      fill: #174EA6;\n",
              "    }\n",
              "\n",
              "    .colab-df-buttons div {\n",
              "      margin-bottom: 4px;\n",
              "    }\n",
              "\n",
              "    [theme=dark] .colab-df-convert {\n",
              "      background-color: #3B4455;\n",
              "      fill: #D2E3FC;\n",
              "    }\n",
              "\n",
              "    [theme=dark] .colab-df-convert:hover {\n",
              "      background-color: #434B5C;\n",
              "      box-shadow: 0px 1px 3px 1px rgba(0, 0, 0, 0.15);\n",
              "      filter: drop-shadow(0px 1px 2px rgba(0, 0, 0, 0.3));\n",
              "      fill: #FFFFFF;\n",
              "    }\n",
              "  </style>\n",
              "\n",
              "    <script>\n",
              "      const buttonEl =\n",
              "        document.querySelector('#df-e1bdefd4-261b-4874-80ef-05f99bcf3bd1 button.colab-df-convert');\n",
              "      buttonEl.style.display =\n",
              "        google.colab.kernel.accessAllowed ? 'block' : 'none';\n",
              "\n",
              "      async function convertToInteractive(key) {\n",
              "        const element = document.querySelector('#df-e1bdefd4-261b-4874-80ef-05f99bcf3bd1');\n",
              "        const dataTable =\n",
              "          await google.colab.kernel.invokeFunction('convertToInteractive',\n",
              "                                                    [key], {});\n",
              "        if (!dataTable) return;\n",
              "\n",
              "        const docLinkHtml = 'Like what you see? Visit the ' +\n",
              "          '<a target=\"_blank\" href=https://colab.research.google.com/notebooks/data_table.ipynb>data table notebook</a>'\n",
              "          + ' to learn more about interactive tables.';\n",
              "        element.innerHTML = '';\n",
              "        dataTable['output_type'] = 'display_data';\n",
              "        await google.colab.output.renderOutput(dataTable, element);\n",
              "        const docLink = document.createElement('div');\n",
              "        docLink.innerHTML = docLinkHtml;\n",
              "        element.appendChild(docLink);\n",
              "      }\n",
              "    </script>\n",
              "  </div>\n",
              "\n",
              "\n",
              "<div id=\"df-7cf556f9-73cd-483a-b4a3-22f4ec2a277b\">\n",
              "  <button class=\"colab-df-quickchart\" onclick=\"quickchart('df-7cf556f9-73cd-483a-b4a3-22f4ec2a277b')\"\n",
              "            title=\"Suggest charts.\"\n",
              "            style=\"display:none;\">\n",
              "\n",
              "<svg xmlns=\"http://www.w3.org/2000/svg\" height=\"24px\"viewBox=\"0 0 24 24\"\n",
              "     width=\"24px\">\n",
              "    <g>\n",
              "        <path d=\"M19 3H5c-1.1 0-2 .9-2 2v14c0 1.1.9 2 2 2h14c1.1 0 2-.9 2-2V5c0-1.1-.9-2-2-2zM9 17H7v-7h2v7zm4 0h-2V7h2v10zm4 0h-2v-4h2v4z\"/>\n",
              "    </g>\n",
              "</svg>\n",
              "  </button>\n",
              "\n",
              "<style>\n",
              "  .colab-df-quickchart {\n",
              "      --bg-color: #E8F0FE;\n",
              "      --fill-color: #1967D2;\n",
              "      --hover-bg-color: #E2EBFA;\n",
              "      --hover-fill-color: #174EA6;\n",
              "      --disabled-fill-color: #AAA;\n",
              "      --disabled-bg-color: #DDD;\n",
              "  }\n",
              "\n",
              "  [theme=dark] .colab-df-quickchart {\n",
              "      --bg-color: #3B4455;\n",
              "      --fill-color: #D2E3FC;\n",
              "      --hover-bg-color: #434B5C;\n",
              "      --hover-fill-color: #FFFFFF;\n",
              "      --disabled-bg-color: #3B4455;\n",
              "      --disabled-fill-color: #666;\n",
              "  }\n",
              "\n",
              "  .colab-df-quickchart {\n",
              "    background-color: var(--bg-color);\n",
              "    border: none;\n",
              "    border-radius: 50%;\n",
              "    cursor: pointer;\n",
              "    display: none;\n",
              "    fill: var(--fill-color);\n",
              "    height: 32px;\n",
              "    padding: 0;\n",
              "    width: 32px;\n",
              "  }\n",
              "\n",
              "  .colab-df-quickchart:hover {\n",
              "    background-color: var(--hover-bg-color);\n",
              "    box-shadow: 0 1px 2px rgba(60, 64, 67, 0.3), 0 1px 3px 1px rgba(60, 64, 67, 0.15);\n",
              "    fill: var(--button-hover-fill-color);\n",
              "  }\n",
              "\n",
              "  .colab-df-quickchart-complete:disabled,\n",
              "  .colab-df-quickchart-complete:disabled:hover {\n",
              "    background-color: var(--disabled-bg-color);\n",
              "    fill: var(--disabled-fill-color);\n",
              "    box-shadow: none;\n",
              "  }\n",
              "\n",
              "  .colab-df-spinner {\n",
              "    border: 2px solid var(--fill-color);\n",
              "    border-color: transparent;\n",
              "    border-bottom-color: var(--fill-color);\n",
              "    animation:\n",
              "      spin 1s steps(1) infinite;\n",
              "  }\n",
              "\n",
              "  @keyframes spin {\n",
              "    0% {\n",
              "      border-color: transparent;\n",
              "      border-bottom-color: var(--fill-color);\n",
              "      border-left-color: var(--fill-color);\n",
              "    }\n",
              "    20% {\n",
              "      border-color: transparent;\n",
              "      border-left-color: var(--fill-color);\n",
              "      border-top-color: var(--fill-color);\n",
              "    }\n",
              "    30% {\n",
              "      border-color: transparent;\n",
              "      border-left-color: var(--fill-color);\n",
              "      border-top-color: var(--fill-color);\n",
              "      border-right-color: var(--fill-color);\n",
              "    }\n",
              "    40% {\n",
              "      border-color: transparent;\n",
              "      border-right-color: var(--fill-color);\n",
              "      border-top-color: var(--fill-color);\n",
              "    }\n",
              "    60% {\n",
              "      border-color: transparent;\n",
              "      border-right-color: var(--fill-color);\n",
              "    }\n",
              "    80% {\n",
              "      border-color: transparent;\n",
              "      border-right-color: var(--fill-color);\n",
              "      border-bottom-color: var(--fill-color);\n",
              "    }\n",
              "    90% {\n",
              "      border-color: transparent;\n",
              "      border-bottom-color: var(--fill-color);\n",
              "    }\n",
              "  }\n",
              "</style>\n",
              "\n",
              "  <script>\n",
              "    async function quickchart(key) {\n",
              "      const quickchartButtonEl =\n",
              "        document.querySelector('#' + key + ' button');\n",
              "      quickchartButtonEl.disabled = true;  // To prevent multiple clicks.\n",
              "      quickchartButtonEl.classList.add('colab-df-spinner');\n",
              "      try {\n",
              "        const charts = await google.colab.kernel.invokeFunction(\n",
              "            'suggestCharts', [key], {});\n",
              "      } catch (error) {\n",
              "        console.error('Error during call to suggestCharts:', error);\n",
              "      }\n",
              "      quickchartButtonEl.classList.remove('colab-df-spinner');\n",
              "      quickchartButtonEl.classList.add('colab-df-quickchart-complete');\n",
              "    }\n",
              "    (() => {\n",
              "      let quickchartButtonEl =\n",
              "        document.querySelector('#df-7cf556f9-73cd-483a-b4a3-22f4ec2a277b button');\n",
              "      quickchartButtonEl.style.display =\n",
              "        google.colab.kernel.accessAllowed ? 'block' : 'none';\n",
              "    })();\n",
              "  </script>\n",
              "</div>\n",
              "    </div>\n",
              "  </div>\n"
            ]
          },
          "metadata": {},
          "execution_count": 3
        }
      ]
    },
    {
      "cell_type": "code",
      "source": [
        "#Print the number of samples and the number of features\n",
        "#RangeIndex = samples, Columns = features)\n",
        "x.info()"
      ],
      "metadata": {
        "colab": {
          "base_uri": "https://localhost:8080/"
        },
        "id": "-0MviQaLTQbO",
        "outputId": "72e5db91-299d-4589-c3cf-2ba9d48d8fa4"
      },
      "execution_count": null,
      "outputs": [
        {
          "output_type": "stream",
          "name": "stdout",
          "text": [
            "<class 'pandas.core.frame.DataFrame'>\n",
            "RangeIndex: 1560 entries, 0 to 1559\n",
            "Columns: 617 entries, 0 to 616\n",
            "dtypes: float64(617)\n",
            "memory usage: 7.3 MB\n"
          ]
        }
      ]
    },
    {
      "cell_type": "code",
      "source": [
        "#Print the number of classes\n",
        "print(y.value_counts(),y.info())"
      ],
      "metadata": {
        "colab": {
          "base_uri": "https://localhost:8080/"
        },
        "id": "VtJIzHw8TQbP",
        "outputId": "5d0c94e4-609d-4068-b726-c7260e63eb05"
      },
      "execution_count": null,
      "outputs": [
        {
          "output_type": "stream",
          "name": "stdout",
          "text": [
            "<class 'pandas.core.frame.DataFrame'>\n",
            "RangeIndex: 1560 entries, 0 to 1559\n",
            "Data columns (total 1 columns):\n",
            " #   Column  Non-Null Count  Dtype\n",
            "---  ------  --------------  -----\n",
            " 0   0       1560 non-null   uint8\n",
            "dtypes: uint8(1)\n",
            "memory usage: 1.6 KB\n",
            "1     60\n",
            "2     60\n",
            "25    60\n",
            "24    60\n",
            "23    60\n",
            "22    60\n",
            "21    60\n",
            "20    60\n",
            "19    60\n",
            "18    60\n",
            "17    60\n",
            "16    60\n",
            "15    60\n",
            "14    60\n",
            "13    60\n",
            "12    60\n",
            "11    60\n",
            "10    60\n",
            "9     60\n",
            "8     60\n",
            "7     60\n",
            "6     60\n",
            "5     60\n",
            "4     60\n",
            "3     60\n",
            "26    60\n",
            "dtype: int64 None\n"
          ]
        }
      ]
    },
    {
      "cell_type": "markdown",
      "source": [
        "Step 3: Split the Dataset"
      ],
      "metadata": {
        "id": "FujgfEIETQbP"
      }
    },
    {
      "cell_type": "code",
      "source": [
        "#Spilt data, the test set should have 20 points\n",
        "x_train, x_test, y_train, y_test = train_test_split(x, y, test_size = 0.091 , random_state = 0)\n",
        "x_test\n",
        "\n",
        "#(training samples , All data) (The test set have 20 point , All data)\n",
        "print(x_train.shape,x_test.shape)"
      ],
      "metadata": {
        "colab": {
          "base_uri": "https://localhost:8080/",
          "height": 256
        },
        "id": "271XrZVaTQbP",
        "outputId": "681eaf66-692f-4890-c343-25c272f9812d"
      },
      "execution_count": null,
      "outputs": [
        {
          "output_type": "error",
          "ename": "NameError",
          "evalue": "ignored",
          "traceback": [
            "\u001b[0;31m---------------------------------------------------------------------------\u001b[0m",
            "\u001b[0;31mNameError\u001b[0m                                 Traceback (most recent call last)",
            "\u001b[0;32m<ipython-input-1-3b7fc0a063fe>\u001b[0m in \u001b[0;36m<cell line: 2>\u001b[0;34m()\u001b[0m\n\u001b[1;32m      1\u001b[0m \u001b[0;31m#Spilt data, the test set should have 20 points\u001b[0m\u001b[0;34m\u001b[0m\u001b[0;34m\u001b[0m\u001b[0m\n\u001b[0;32m----> 2\u001b[0;31m \u001b[0mx_train\u001b[0m\u001b[0;34m,\u001b[0m \u001b[0mx_test\u001b[0m\u001b[0;34m,\u001b[0m \u001b[0my_train\u001b[0m\u001b[0;34m,\u001b[0m \u001b[0my_test\u001b[0m \u001b[0;34m=\u001b[0m \u001b[0mtrain_test_split\u001b[0m\u001b[0;34m(\u001b[0m\u001b[0mx\u001b[0m\u001b[0;34m,\u001b[0m \u001b[0my\u001b[0m\u001b[0;34m,\u001b[0m \u001b[0mtest_size\u001b[0m \u001b[0;34m=\u001b[0m \u001b[0;36m0.091\u001b[0m \u001b[0;34m,\u001b[0m \u001b[0mrandom_state\u001b[0m \u001b[0;34m=\u001b[0m \u001b[0;36m0\u001b[0m\u001b[0;34m)\u001b[0m\u001b[0;34m\u001b[0m\u001b[0;34m\u001b[0m\u001b[0m\n\u001b[0m\u001b[1;32m      3\u001b[0m \u001b[0mx_test\u001b[0m\u001b[0;34m\u001b[0m\u001b[0;34m\u001b[0m\u001b[0m\n\u001b[1;32m      4\u001b[0m \u001b[0;34m\u001b[0m\u001b[0m\n\u001b[1;32m      5\u001b[0m \u001b[0;31m#(training samples , All data) (The test set have 20 point , All data)\u001b[0m\u001b[0;34m\u001b[0m\u001b[0;34m\u001b[0m\u001b[0m\n",
            "\u001b[0;31mNameError\u001b[0m: name 'train_test_split' is not defined"
          ]
        }
      ]
    },
    {
      "cell_type": "markdown",
      "source": [
        "Step 4: Naïve Bayes Classifier"
      ],
      "metadata": {
        "id": "gr1QndAjTQbQ"
      }
    },
    {
      "cell_type": "markdown",
      "source": [
        "a. Train a Naïve Bayes classifier on the training set."
      ],
      "metadata": {
        "id": "9O_y1prSTQbQ"
      }
    },
    {
      "cell_type": "code",
      "source": [
        "# instantiate the model\n",
        "GNP = GaussianNB()\n",
        "# fit the model\n",
        "\n",
        "GNP.fit(x_train, y_train)\n",
        "StartTime = time.time()\n",
        "predictions = GNP.predict(x_test)\n",
        "EndTime = time.time()\n",
        "ElapsedTime = EndTime - StartTime\n",
        "print(f\"Elapsed time: {ElapsedTime} seconds\")\n",
        "predictions"
      ],
      "metadata": {
        "colab": {
          "base_uri": "https://localhost:8080/"
        },
        "id": "AX5lVjhgTQbQ",
        "outputId": "0c4ab263-19f7-4950-a46b-9d64a0d007d4"
      },
      "execution_count": null,
      "outputs": [
        {
          "output_type": "stream",
          "name": "stdout",
          "text": [
            "Elapsed time: 0.03190422058105469 seconds\n"
          ]
        },
        {
          "output_type": "stream",
          "name": "stderr",
          "text": [
            "/usr/local/lib/python3.10/dist-packages/sklearn/utils/validation.py:1143: DataConversionWarning: A column-vector y was passed when a 1d array was expected. Please change the shape of y to (n_samples, ), for example using ravel().\n",
            "  y = column_or_1d(y, warn=True)\n"
          ]
        },
        {
          "output_type": "execute_result",
          "data": {
            "text/plain": [
              "array([ 6, 18, 14, 10,  7,  9, 11, 23, 22,  9,  7, 15,  9, 16,  1, 22,  8,\n",
              "        2, 22, 25, 11,  5,  6, 12,  1,  3, 18,  6, 19,  8, 25,  1, 26,  1,\n",
              "       16, 25, 23, 11, 14,  1,  8, 18, 16, 21,  5,  2,  1,  9, 23, 26, 17,\n",
              "        6, 15, 12, 17, 12, 20,  3,  5, 16, 20, 14,  3,  7,  6, 11, 23, 12,\n",
              "       23,  4, 10, 12, 17, 17, 23, 14,  6,  3,  9, 18,  4, 20,  5, 25,  5,\n",
              "       10,  8,  8, 21, 23,  3,  6, 16, 23, 11, 20, 12, 24, 26,  7, 14, 14,\n",
              "       14, 18,  8, 13, 20,  5,  8, 14,  6, 24,  9, 10, 26,  5, 13, 17, 13,\n",
              "       21, 24, 20,  9,  5, 25,  5, 15, 17, 20, 25, 16, 12,  1, 18, 22, 23,\n",
              "       17, 18, 17,  7,  5, 23, 11, 23, 23,  6,  5, 20, 15, 19, 20,  6, 25,\n",
              "       14,  8, 19,  2, 20, 21,  7,  2,  5, 16, 23, 20, 23, 12,  3,  2,  4,\n",
              "        8, 26, 19,  4, 10,  3,  9, 19,  9, 20, 21, 20,  6,  3, 11, 24, 12,\n",
              "        1,  5,  6, 22, 23, 12, 22,  8,  6, 20, 16,  9, 24, 17, 20, 24, 26,\n",
              "       20, 11, 14,  1,  5,  6, 10, 19, 21, 19, 20, 25,  6, 20, 20,  6, 11,\n",
              "       12, 17, 20, 23,  3,  9,  7, 21,  6, 14,  8,  3, 24, 17,  1,  6, 19,\n",
              "       19,  1, 14, 19,  1,  1,  7, 23, 10, 23,  3,  7,  1, 21, 24,  2, 17,\n",
              "        8, 24,  9,  9,  1,  6, 25, 14,  8,  9,  2, 23,  7, 17,  8,  1, 25,\n",
              "       26,  5,  8,  7, 20,  5, 16, 18,  1,  3,  5, 14,  9, 20, 21, 17,  1,\n",
              "       14, 20, 22, 10, 23, 11, 17,  8,  7, 17, 18,  8,  4, 25,  4, 19,  1,\n",
              "        9, 21, 10, 24,  5, 14], dtype=uint8)"
            ]
          },
          "metadata": {},
          "execution_count": 7
        }
      ]
    },
    {
      "cell_type": "markdown",
      "source": [
        "b. Make predictions on the testing set."
      ],
      "metadata": {
        "id": "QQ-T3SuXTQbR"
      }
    },
    {
      "cell_type": "code",
      "source": [
        "#print the accuracy, computation time, average and standard deviation\n",
        "print(\"Accuracy Score :\", 1 - accuracy_score(predictions, y_test))\n",
        "print(f\"Elapsed time : {ElapsedTime} seconds\")\n",
        "print(\"average : \", np.average(predictions))\n",
        "print(\"Standard Deviation : \", np.std(predictions))"
      ],
      "metadata": {
        "colab": {
          "base_uri": "https://localhost:8080/"
        },
        "id": "rA--G6xzTQbR",
        "outputId": "d81a1ca4-0a80-4edd-a13f-63135eed1f31"
      },
      "execution_count": null,
      "outputs": [
        {
          "output_type": "stream",
          "name": "stdout",
          "text": [
            "Accuracy Score : 0.19551282051282048\n",
            "Elapsed time : 0.03190422058105469 seconds\n",
            "average :  13.08974358974359\n",
            "Standard Deviation :  7.573462266591453\n"
          ]
        }
      ]
    },
    {
      "cell_type": "markdown",
      "source": [
        "Step 5: k-NN Classifier"
      ],
      "metadata": {
        "id": "J1vPCcVVTQbS"
      }
    },
    {
      "cell_type": "markdown",
      "source": [
        "a.Run k-NN classifier for k value = 1"
      ],
      "metadata": {
        "id": "KdF4mTWvTQbS"
      }
    },
    {
      "cell_type": "code",
      "source": [
        "# instantiate the model\n",
        "knn = KNeighborsClassifier(1)\n",
        "# fit the model\n",
        "knn.fit(x_train, y_train)\n",
        "StartTime = time.time()\n",
        "predictions = knn.predict(x_test)\n",
        "EndTime = time.time()\n",
        "elapsed_time = EndTime - StartTime\n",
        "\n",
        "#print the accuracy and computation time\n",
        "print(\"Accuracy Score :\", 1 - accuracy_score(predictions, y_test))\n",
        "print(f\"Elapsed time : {ElapsedTime} seconds\")"
      ],
      "metadata": {
        "colab": {
          "base_uri": "https://localhost:8080/"
        },
        "id": "p_8pI7IsTQbS",
        "outputId": "01f39af4-4339-4299-de24-a545d19ab70f"
      },
      "execution_count": null,
      "outputs": [
        {
          "output_type": "stream",
          "name": "stderr",
          "text": [
            "/usr/local/lib/python3.10/dist-packages/sklearn/neighbors/_classification.py:215: DataConversionWarning: A column-vector y was passed when a 1d array was expected. Please change the shape of y to (n_samples,), for example using ravel().\n",
            "  return self._fit(X, y)\n"
          ]
        },
        {
          "output_type": "stream",
          "name": "stdout",
          "text": [
            "Accuracy Score : 0.1282051282051282\n",
            "Elapsed time : 0.03190422058105469 seconds\n"
          ]
        }
      ]
    },
    {
      "cell_type": "markdown",
      "source": [
        "b.Run k-NN classifier for k value = 3"
      ],
      "metadata": {
        "id": "uahLol19TQbT"
      }
    },
    {
      "cell_type": "code",
      "source": [
        "# instantiate the model\n",
        "knn = KNeighborsClassifier(3)\n",
        "# fit the model\n",
        "knn.fit(x_train, y_train)\n",
        "StartTime = time.time()\n",
        "predictions = knn.predict(x_test)\n",
        "EndTime = time.time()\n",
        "elapsed_time = EndTime - StartTime\n",
        "\n",
        "#print the accuracy and computation time\n",
        "print(\"Accuracy Score :\", 1 - accuracy_score(predictions, y_test))\n",
        "print(f\"Elapsed time : {ElapsedTime} seconds\")"
      ],
      "metadata": {
        "colab": {
          "base_uri": "https://localhost:8080/"
        },
        "outputId": "81e8bfe3-cdde-4492-c887-644d9d85e6b8",
        "id": "iszTOQcJTQbT"
      },
      "execution_count": null,
      "outputs": [
        {
          "output_type": "stream",
          "name": "stdout",
          "text": [
            "Accuracy Score : 0.14743589743589747\n",
            "Elapsed time : 0.03190422058105469 seconds\n"
          ]
        },
        {
          "output_type": "stream",
          "name": "stderr",
          "text": [
            "/usr/local/lib/python3.10/dist-packages/sklearn/neighbors/_classification.py:215: DataConversionWarning: A column-vector y was passed when a 1d array was expected. Please change the shape of y to (n_samples,), for example using ravel().\n",
            "  return self._fit(X, y)\n"
          ]
        }
      ]
    },
    {
      "cell_type": "markdown",
      "source": [
        "c.Run k-NN classifier for k value = 7"
      ],
      "metadata": {
        "id": "0mPyAknGTQbU"
      }
    },
    {
      "cell_type": "code",
      "source": [
        "# instantiate the model\n",
        "knn = KNeighborsClassifier(7)\n",
        "# fit the model\n",
        "knn.fit(x_train, y_train)\n",
        "StartTime = time.time()\n",
        "predictions = knn.predict(x_test)\n",
        "EndTime = time.time()\n",
        "elapsed_time = EndTime - StartTime\n",
        "\n",
        "#print the accuracy and computation time\n",
        "print(\"Accuracy Score :\", 1 - accuracy_score(predictions, y_test))\n",
        "print(f\"Elapsed time : {ElapsedTime} seconds\")"
      ],
      "metadata": {
        "colab": {
          "base_uri": "https://localhost:8080/"
        },
        "id": "d6nJPNPCTQbU",
        "outputId": "f2adfc8a-c86f-4966-f1ea-3f936013d8e0"
      },
      "execution_count": null,
      "outputs": [
        {
          "output_type": "stream",
          "name": "stdout",
          "text": [
            "Accuracy Score : 0.1314102564102564\n",
            "Elapsed time : 0.03190422058105469 seconds\n"
          ]
        },
        {
          "output_type": "stream",
          "name": "stderr",
          "text": [
            "/usr/local/lib/python3.10/dist-packages/sklearn/neighbors/_classification.py:215: DataConversionWarning: A column-vector y was passed when a 1d array was expected. Please change the shape of y to (n_samples,), for example using ravel().\n",
            "  return self._fit(X, y)\n"
          ]
        }
      ]
    },
    {
      "cell_type": "markdown",
      "source": [
        "##**USPS.mat file**\n"
      ],
      "metadata": {
        "id": "1EHuW8JYfxyJ"
      }
    },
    {
      "cell_type": "markdown",
      "source": [
        "Step 1: Load the Dataset"
      ],
      "metadata": {
        "id": "mvpKwaOzgLlF"
      }
    },
    {
      "cell_type": "code",
      "source": [
        "# Load pakages and Library for working\n",
        "from sklearn.model_selection import train_test_split\n",
        "# train a Gaussian Naive Bayes classifier on the training set\n",
        "from sklearn.naive_bayes import GaussianNB\n",
        "# import a KNeighbors classifier\n",
        "from sklearn.neighbors import KNeighborsClassifier\n",
        "# Test Accuracy\n",
        "from sklearn.metrics import accuracy_score\n",
        "# import time module to calc classification time in second\n",
        "import time\n",
        "# import the NumPy module\n",
        "import numpy as np\n",
        "# import the classification report module\n",
        "from sklearn.metrics import classification_report\n",
        "\n",
        "\n",
        "\n",
        "\n",
        "\n",
        "# Load the .mat file\n",
        "from scipy.io import loadmat\n",
        "import pandas as pd\n",
        "\n",
        "USPS = loadmat('/content/USPS(1).mat')\n"
      ],
      "metadata": {
        "id": "Yz414Qkgf7aM"
      },
      "execution_count": null,
      "outputs": []
    },
    {
      "cell_type": "markdown",
      "source": [
        "Step 2: Data Exploration\n",
        "\n",
        "\n",
        "\n"
      ],
      "metadata": {
        "id": "2O3QtCuXilPC"
      }
    },
    {
      "cell_type": "code",
      "source": [
        "X_USPS= pd.DataFrame(USPS['X'])\n",
        "Y_USPS = pd.DataFrame(USPS['Y'])\n",
        "\n",
        "#Print descriptive analysis about dataset\n",
        "X_USPS.describe()"
      ],
      "metadata": {
        "id": "vv4XFQgAiopT",
        "colab": {
          "base_uri": "https://localhost:8080/",
          "height": 350
        },
        "outputId": "4baf0d44-0f97-4c1d-f9a7-4786d73a944f"
      },
      "execution_count": null,
      "outputs": [
        {
          "output_type": "execute_result",
          "data": {
            "text/plain": [
              "               0            1            2            3            4    \\\n",
              "count  9298.000000  9298.000000  9298.000000  9298.000000  9298.000000   \n",
              "mean     -0.991800    -0.972226    -0.930421    -0.852805    -0.733673   \n",
              "std       0.050814     0.118296     0.195285     0.284053     0.372653   \n",
              "min      -1.000000    -1.000000    -1.000000    -1.000000    -1.000000   \n",
              "25%      -1.000000    -1.000000    -1.000000    -0.999914    -0.996085   \n",
              "50%      -1.000000    -0.999992    -0.999609    -0.991661    -0.932991   \n",
              "75%      -0.999969    -0.998444    -0.979572    -0.861493    -0.589829   \n",
              "max       0.000308     0.332928     0.479436     0.523534     0.527370   \n",
              "\n",
              "               5            6            7            8            9    ...  \\\n",
              "count  9298.000000  9298.000000  9298.000000  9298.000000  9298.000000  ...   \n",
              "mean     -0.578239    -0.391187    -0.228260    -0.220399    -0.354626  ...   \n",
              "std       0.435317     0.452878     0.454537     0.446069     0.454492  ...   \n",
              "min      -1.000000    -1.000000    -1.000000    -1.000000    -1.000000  ...   \n",
              "25%      -0.963110    -0.787003    -0.620084    -0.571667    -0.776483  ...   \n",
              "50%      -0.747495    -0.447742    -0.138583    -0.147614    -0.378182  ...   \n",
              "75%      -0.260331     0.000547     0.143727     0.148815     0.047713  ...   \n",
              "max       0.531509     0.531319     0.531368     0.531327     0.531257  ...   \n",
              "\n",
              "               246          247          248          249          250  \\\n",
              "count  9298.000000  9298.000000  9298.000000  9298.000000  9298.000000   \n",
              "mean     -0.292865    -0.118513    -0.138364    -0.357547    -0.595574   \n",
              "std       0.483898     0.453286     0.449512     0.456625     0.422421   \n",
              "min      -1.000000    -1.000000    -1.000000    -1.000000    -1.000000   \n",
              "25%      -0.742622    -0.430494    -0.465960    -0.770638    -0.968696   \n",
              "50%      -0.283600    -0.022176    -0.039908    -0.392889    -0.755935   \n",
              "75%       0.153226     0.251788     0.220543     0.033934    -0.306862   \n",
              "max       0.531380     0.531834     0.531857     0.531830     0.531472   \n",
              "\n",
              "               251          252          253          254          255  \n",
              "count  9298.000000  9298.000000  9298.000000  9298.000000  9298.000000  \n",
              "mean     -0.766226    -0.874332    -0.936784    -0.970873    -0.989597  \n",
              "std       0.340464     0.254392     0.183444     0.120247     0.058028  \n",
              "min      -1.000000    -1.000000    -1.000000    -1.000000    -1.000000  \n",
              "25%      -0.997447    -0.999957    -1.000000    -1.000000    -1.000000  \n",
              "50%      -0.946958    -0.993475    -0.999771    -0.999996    -1.000000  \n",
              "75%      -0.654382    -0.885085    -0.979766    -0.998040    -0.999942  \n",
              "max       0.523678     0.524670     0.470479     0.314115    -0.162598  \n",
              "\n",
              "[8 rows x 256 columns]"
            ],
            "text/html": [
              "\n",
              "  <div id=\"df-04d2f094-38d1-434e-aa32-ff2de81840ec\" class=\"colab-df-container\">\n",
              "    <div>\n",
              "<style scoped>\n",
              "    .dataframe tbody tr th:only-of-type {\n",
              "        vertical-align: middle;\n",
              "    }\n",
              "\n",
              "    .dataframe tbody tr th {\n",
              "        vertical-align: top;\n",
              "    }\n",
              "\n",
              "    .dataframe thead th {\n",
              "        text-align: right;\n",
              "    }\n",
              "</style>\n",
              "<table border=\"1\" class=\"dataframe\">\n",
              "  <thead>\n",
              "    <tr style=\"text-align: right;\">\n",
              "      <th></th>\n",
              "      <th>0</th>\n",
              "      <th>1</th>\n",
              "      <th>2</th>\n",
              "      <th>3</th>\n",
              "      <th>4</th>\n",
              "      <th>5</th>\n",
              "      <th>6</th>\n",
              "      <th>7</th>\n",
              "      <th>8</th>\n",
              "      <th>9</th>\n",
              "      <th>...</th>\n",
              "      <th>246</th>\n",
              "      <th>247</th>\n",
              "      <th>248</th>\n",
              "      <th>249</th>\n",
              "      <th>250</th>\n",
              "      <th>251</th>\n",
              "      <th>252</th>\n",
              "      <th>253</th>\n",
              "      <th>254</th>\n",
              "      <th>255</th>\n",
              "    </tr>\n",
              "  </thead>\n",
              "  <tbody>\n",
              "    <tr>\n",
              "      <th>count</th>\n",
              "      <td>9298.000000</td>\n",
              "      <td>9298.000000</td>\n",
              "      <td>9298.000000</td>\n",
              "      <td>9298.000000</td>\n",
              "      <td>9298.000000</td>\n",
              "      <td>9298.000000</td>\n",
              "      <td>9298.000000</td>\n",
              "      <td>9298.000000</td>\n",
              "      <td>9298.000000</td>\n",
              "      <td>9298.000000</td>\n",
              "      <td>...</td>\n",
              "      <td>9298.000000</td>\n",
              "      <td>9298.000000</td>\n",
              "      <td>9298.000000</td>\n",
              "      <td>9298.000000</td>\n",
              "      <td>9298.000000</td>\n",
              "      <td>9298.000000</td>\n",
              "      <td>9298.000000</td>\n",
              "      <td>9298.000000</td>\n",
              "      <td>9298.000000</td>\n",
              "      <td>9298.000000</td>\n",
              "    </tr>\n",
              "    <tr>\n",
              "      <th>mean</th>\n",
              "      <td>-0.991800</td>\n",
              "      <td>-0.972226</td>\n",
              "      <td>-0.930421</td>\n",
              "      <td>-0.852805</td>\n",
              "      <td>-0.733673</td>\n",
              "      <td>-0.578239</td>\n",
              "      <td>-0.391187</td>\n",
              "      <td>-0.228260</td>\n",
              "      <td>-0.220399</td>\n",
              "      <td>-0.354626</td>\n",
              "      <td>...</td>\n",
              "      <td>-0.292865</td>\n",
              "      <td>-0.118513</td>\n",
              "      <td>-0.138364</td>\n",
              "      <td>-0.357547</td>\n",
              "      <td>-0.595574</td>\n",
              "      <td>-0.766226</td>\n",
              "      <td>-0.874332</td>\n",
              "      <td>-0.936784</td>\n",
              "      <td>-0.970873</td>\n",
              "      <td>-0.989597</td>\n",
              "    </tr>\n",
              "    <tr>\n",
              "      <th>std</th>\n",
              "      <td>0.050814</td>\n",
              "      <td>0.118296</td>\n",
              "      <td>0.195285</td>\n",
              "      <td>0.284053</td>\n",
              "      <td>0.372653</td>\n",
              "      <td>0.435317</td>\n",
              "      <td>0.452878</td>\n",
              "      <td>0.454537</td>\n",
              "      <td>0.446069</td>\n",
              "      <td>0.454492</td>\n",
              "      <td>...</td>\n",
              "      <td>0.483898</td>\n",
              "      <td>0.453286</td>\n",
              "      <td>0.449512</td>\n",
              "      <td>0.456625</td>\n",
              "      <td>0.422421</td>\n",
              "      <td>0.340464</td>\n",
              "      <td>0.254392</td>\n",
              "      <td>0.183444</td>\n",
              "      <td>0.120247</td>\n",
              "      <td>0.058028</td>\n",
              "    </tr>\n",
              "    <tr>\n",
              "      <th>min</th>\n",
              "      <td>-1.000000</td>\n",
              "      <td>-1.000000</td>\n",
              "      <td>-1.000000</td>\n",
              "      <td>-1.000000</td>\n",
              "      <td>-1.000000</td>\n",
              "      <td>-1.000000</td>\n",
              "      <td>-1.000000</td>\n",
              "      <td>-1.000000</td>\n",
              "      <td>-1.000000</td>\n",
              "      <td>-1.000000</td>\n",
              "      <td>...</td>\n",
              "      <td>-1.000000</td>\n",
              "      <td>-1.000000</td>\n",
              "      <td>-1.000000</td>\n",
              "      <td>-1.000000</td>\n",
              "      <td>-1.000000</td>\n",
              "      <td>-1.000000</td>\n",
              "      <td>-1.000000</td>\n",
              "      <td>-1.000000</td>\n",
              "      <td>-1.000000</td>\n",
              "      <td>-1.000000</td>\n",
              "    </tr>\n",
              "    <tr>\n",
              "      <th>25%</th>\n",
              "      <td>-1.000000</td>\n",
              "      <td>-1.000000</td>\n",
              "      <td>-1.000000</td>\n",
              "      <td>-0.999914</td>\n",
              "      <td>-0.996085</td>\n",
              "      <td>-0.963110</td>\n",
              "      <td>-0.787003</td>\n",
              "      <td>-0.620084</td>\n",
              "      <td>-0.571667</td>\n",
              "      <td>-0.776483</td>\n",
              "      <td>...</td>\n",
              "      <td>-0.742622</td>\n",
              "      <td>-0.430494</td>\n",
              "      <td>-0.465960</td>\n",
              "      <td>-0.770638</td>\n",
              "      <td>-0.968696</td>\n",
              "      <td>-0.997447</td>\n",
              "      <td>-0.999957</td>\n",
              "      <td>-1.000000</td>\n",
              "      <td>-1.000000</td>\n",
              "      <td>-1.000000</td>\n",
              "    </tr>\n",
              "    <tr>\n",
              "      <th>50%</th>\n",
              "      <td>-1.000000</td>\n",
              "      <td>-0.999992</td>\n",
              "      <td>-0.999609</td>\n",
              "      <td>-0.991661</td>\n",
              "      <td>-0.932991</td>\n",
              "      <td>-0.747495</td>\n",
              "      <td>-0.447742</td>\n",
              "      <td>-0.138583</td>\n",
              "      <td>-0.147614</td>\n",
              "      <td>-0.378182</td>\n",
              "      <td>...</td>\n",
              "      <td>-0.283600</td>\n",
              "      <td>-0.022176</td>\n",
              "      <td>-0.039908</td>\n",
              "      <td>-0.392889</td>\n",
              "      <td>-0.755935</td>\n",
              "      <td>-0.946958</td>\n",
              "      <td>-0.993475</td>\n",
              "      <td>-0.999771</td>\n",
              "      <td>-0.999996</td>\n",
              "      <td>-1.000000</td>\n",
              "    </tr>\n",
              "    <tr>\n",
              "      <th>75%</th>\n",
              "      <td>-0.999969</td>\n",
              "      <td>-0.998444</td>\n",
              "      <td>-0.979572</td>\n",
              "      <td>-0.861493</td>\n",
              "      <td>-0.589829</td>\n",
              "      <td>-0.260331</td>\n",
              "      <td>0.000547</td>\n",
              "      <td>0.143727</td>\n",
              "      <td>0.148815</td>\n",
              "      <td>0.047713</td>\n",
              "      <td>...</td>\n",
              "      <td>0.153226</td>\n",
              "      <td>0.251788</td>\n",
              "      <td>0.220543</td>\n",
              "      <td>0.033934</td>\n",
              "      <td>-0.306862</td>\n",
              "      <td>-0.654382</td>\n",
              "      <td>-0.885085</td>\n",
              "      <td>-0.979766</td>\n",
              "      <td>-0.998040</td>\n",
              "      <td>-0.999942</td>\n",
              "    </tr>\n",
              "    <tr>\n",
              "      <th>max</th>\n",
              "      <td>0.000308</td>\n",
              "      <td>0.332928</td>\n",
              "      <td>0.479436</td>\n",
              "      <td>0.523534</td>\n",
              "      <td>0.527370</td>\n",
              "      <td>0.531509</td>\n",
              "      <td>0.531319</td>\n",
              "      <td>0.531368</td>\n",
              "      <td>0.531327</td>\n",
              "      <td>0.531257</td>\n",
              "      <td>...</td>\n",
              "      <td>0.531380</td>\n",
              "      <td>0.531834</td>\n",
              "      <td>0.531857</td>\n",
              "      <td>0.531830</td>\n",
              "      <td>0.531472</td>\n",
              "      <td>0.523678</td>\n",
              "      <td>0.524670</td>\n",
              "      <td>0.470479</td>\n",
              "      <td>0.314115</td>\n",
              "      <td>-0.162598</td>\n",
              "    </tr>\n",
              "  </tbody>\n",
              "</table>\n",
              "<p>8 rows × 256 columns</p>\n",
              "</div>\n",
              "    <div class=\"colab-df-buttons\">\n",
              "\n",
              "  <div class=\"colab-df-container\">\n",
              "    <button class=\"colab-df-convert\" onclick=\"convertToInteractive('df-04d2f094-38d1-434e-aa32-ff2de81840ec')\"\n",
              "            title=\"Convert this dataframe to an interactive table.\"\n",
              "            style=\"display:none;\">\n",
              "\n",
              "  <svg xmlns=\"http://www.w3.org/2000/svg\" height=\"24px\" viewBox=\"0 -960 960 960\">\n",
              "    <path d=\"M120-120v-720h720v720H120Zm60-500h600v-160H180v160Zm220 220h160v-160H400v160Zm0 220h160v-160H400v160ZM180-400h160v-160H180v160Zm440 0h160v-160H620v160ZM180-180h160v-160H180v160Zm440 0h160v-160H620v160Z\"/>\n",
              "  </svg>\n",
              "    </button>\n",
              "\n",
              "  <style>\n",
              "    .colab-df-container {\n",
              "      display:flex;\n",
              "      gap: 12px;\n",
              "    }\n",
              "\n",
              "    .colab-df-convert {\n",
              "      background-color: #E8F0FE;\n",
              "      border: none;\n",
              "      border-radius: 50%;\n",
              "      cursor: pointer;\n",
              "      display: none;\n",
              "      fill: #1967D2;\n",
              "      height: 32px;\n",
              "      padding: 0 0 0 0;\n",
              "      width: 32px;\n",
              "    }\n",
              "\n",
              "    .colab-df-convert:hover {\n",
              "      background-color: #E2EBFA;\n",
              "      box-shadow: 0px 1px 2px rgba(60, 64, 67, 0.3), 0px 1px 3px 1px rgba(60, 64, 67, 0.15);\n",
              "      fill: #174EA6;\n",
              "    }\n",
              "\n",
              "    .colab-df-buttons div {\n",
              "      margin-bottom: 4px;\n",
              "    }\n",
              "\n",
              "    [theme=dark] .colab-df-convert {\n",
              "      background-color: #3B4455;\n",
              "      fill: #D2E3FC;\n",
              "    }\n",
              "\n",
              "    [theme=dark] .colab-df-convert:hover {\n",
              "      background-color: #434B5C;\n",
              "      box-shadow: 0px 1px 3px 1px rgba(0, 0, 0, 0.15);\n",
              "      filter: drop-shadow(0px 1px 2px rgba(0, 0, 0, 0.3));\n",
              "      fill: #FFFFFF;\n",
              "    }\n",
              "  </style>\n",
              "\n",
              "    <script>\n",
              "      const buttonEl =\n",
              "        document.querySelector('#df-04d2f094-38d1-434e-aa32-ff2de81840ec button.colab-df-convert');\n",
              "      buttonEl.style.display =\n",
              "        google.colab.kernel.accessAllowed ? 'block' : 'none';\n",
              "\n",
              "      async function convertToInteractive(key) {\n",
              "        const element = document.querySelector('#df-04d2f094-38d1-434e-aa32-ff2de81840ec');\n",
              "        const dataTable =\n",
              "          await google.colab.kernel.invokeFunction('convertToInteractive',\n",
              "                                                    [key], {});\n",
              "        if (!dataTable) return;\n",
              "\n",
              "        const docLinkHtml = 'Like what you see? Visit the ' +\n",
              "          '<a target=\"_blank\" href=https://colab.research.google.com/notebooks/data_table.ipynb>data table notebook</a>'\n",
              "          + ' to learn more about interactive tables.';\n",
              "        element.innerHTML = '';\n",
              "        dataTable['output_type'] = 'display_data';\n",
              "        await google.colab.output.renderOutput(dataTable, element);\n",
              "        const docLink = document.createElement('div');\n",
              "        docLink.innerHTML = docLinkHtml;\n",
              "        element.appendChild(docLink);\n",
              "      }\n",
              "    </script>\n",
              "  </div>\n",
              "\n",
              "\n",
              "<div id=\"df-6c29621e-60c6-4fc7-b29c-d2a0e6954298\">\n",
              "  <button class=\"colab-df-quickchart\" onclick=\"quickchart('df-6c29621e-60c6-4fc7-b29c-d2a0e6954298')\"\n",
              "            title=\"Suggest charts.\"\n",
              "            style=\"display:none;\">\n",
              "\n",
              "<svg xmlns=\"http://www.w3.org/2000/svg\" height=\"24px\"viewBox=\"0 0 24 24\"\n",
              "     width=\"24px\">\n",
              "    <g>\n",
              "        <path d=\"M19 3H5c-1.1 0-2 .9-2 2v14c0 1.1.9 2 2 2h14c1.1 0 2-.9 2-2V5c0-1.1-.9-2-2-2zM9 17H7v-7h2v7zm4 0h-2V7h2v10zm4 0h-2v-4h2v4z\"/>\n",
              "    </g>\n",
              "</svg>\n",
              "  </button>\n",
              "\n",
              "<style>\n",
              "  .colab-df-quickchart {\n",
              "      --bg-color: #E8F0FE;\n",
              "      --fill-color: #1967D2;\n",
              "      --hover-bg-color: #E2EBFA;\n",
              "      --hover-fill-color: #174EA6;\n",
              "      --disabled-fill-color: #AAA;\n",
              "      --disabled-bg-color: #DDD;\n",
              "  }\n",
              "\n",
              "  [theme=dark] .colab-df-quickchart {\n",
              "      --bg-color: #3B4455;\n",
              "      --fill-color: #D2E3FC;\n",
              "      --hover-bg-color: #434B5C;\n",
              "      --hover-fill-color: #FFFFFF;\n",
              "      --disabled-bg-color: #3B4455;\n",
              "      --disabled-fill-color: #666;\n",
              "  }\n",
              "\n",
              "  .colab-df-quickchart {\n",
              "    background-color: var(--bg-color);\n",
              "    border: none;\n",
              "    border-radius: 50%;\n",
              "    cursor: pointer;\n",
              "    display: none;\n",
              "    fill: var(--fill-color);\n",
              "    height: 32px;\n",
              "    padding: 0;\n",
              "    width: 32px;\n",
              "  }\n",
              "\n",
              "  .colab-df-quickchart:hover {\n",
              "    background-color: var(--hover-bg-color);\n",
              "    box-shadow: 0 1px 2px rgba(60, 64, 67, 0.3), 0 1px 3px 1px rgba(60, 64, 67, 0.15);\n",
              "    fill: var(--button-hover-fill-color);\n",
              "  }\n",
              "\n",
              "  .colab-df-quickchart-complete:disabled,\n",
              "  .colab-df-quickchart-complete:disabled:hover {\n",
              "    background-color: var(--disabled-bg-color);\n",
              "    fill: var(--disabled-fill-color);\n",
              "    box-shadow: none;\n",
              "  }\n",
              "\n",
              "  .colab-df-spinner {\n",
              "    border: 2px solid var(--fill-color);\n",
              "    border-color: transparent;\n",
              "    border-bottom-color: var(--fill-color);\n",
              "    animation:\n",
              "      spin 1s steps(1) infinite;\n",
              "  }\n",
              "\n",
              "  @keyframes spin {\n",
              "    0% {\n",
              "      border-color: transparent;\n",
              "      border-bottom-color: var(--fill-color);\n",
              "      border-left-color: var(--fill-color);\n",
              "    }\n",
              "    20% {\n",
              "      border-color: transparent;\n",
              "      border-left-color: var(--fill-color);\n",
              "      border-top-color: var(--fill-color);\n",
              "    }\n",
              "    30% {\n",
              "      border-color: transparent;\n",
              "      border-left-color: var(--fill-color);\n",
              "      border-top-color: var(--fill-color);\n",
              "      border-right-color: var(--fill-color);\n",
              "    }\n",
              "    40% {\n",
              "      border-color: transparent;\n",
              "      border-right-color: var(--fill-color);\n",
              "      border-top-color: var(--fill-color);\n",
              "    }\n",
              "    60% {\n",
              "      border-color: transparent;\n",
              "      border-right-color: var(--fill-color);\n",
              "    }\n",
              "    80% {\n",
              "      border-color: transparent;\n",
              "      border-right-color: var(--fill-color);\n",
              "      border-bottom-color: var(--fill-color);\n",
              "    }\n",
              "    90% {\n",
              "      border-color: transparent;\n",
              "      border-bottom-color: var(--fill-color);\n",
              "    }\n",
              "  }\n",
              "</style>\n",
              "\n",
              "  <script>\n",
              "    async function quickchart(key) {\n",
              "      const quickchartButtonEl =\n",
              "        document.querySelector('#' + key + ' button');\n",
              "      quickchartButtonEl.disabled = true;  // To prevent multiple clicks.\n",
              "      quickchartButtonEl.classList.add('colab-df-spinner');\n",
              "      try {\n",
              "        const charts = await google.colab.kernel.invokeFunction(\n",
              "            'suggestCharts', [key], {});\n",
              "      } catch (error) {\n",
              "        console.error('Error during call to suggestCharts:', error);\n",
              "      }\n",
              "      quickchartButtonEl.classList.remove('colab-df-spinner');\n",
              "      quickchartButtonEl.classList.add('colab-df-quickchart-complete');\n",
              "    }\n",
              "    (() => {\n",
              "      let quickchartButtonEl =\n",
              "        document.querySelector('#df-6c29621e-60c6-4fc7-b29c-d2a0e6954298 button');\n",
              "      quickchartButtonEl.style.display =\n",
              "        google.colab.kernel.accessAllowed ? 'block' : 'none';\n",
              "    })();\n",
              "  </script>\n",
              "</div>\n",
              "    </div>\n",
              "  </div>\n"
            ]
          },
          "metadata": {},
          "execution_count": 9
        }
      ]
    },
    {
      "cell_type": "code",
      "source": [
        "#Print the number of samples and the number of features\n",
        "#RangeIndex = samples, Columns = features)\n",
        "X_USPS.info()"
      ],
      "metadata": {
        "id": "QnZSRX-9feen",
        "colab": {
          "base_uri": "https://localhost:8080/"
        },
        "outputId": "4a26180b-d352-42b9-ae30-7dbfe30d7947"
      },
      "execution_count": null,
      "outputs": [
        {
          "output_type": "stream",
          "name": "stdout",
          "text": [
            "<class 'pandas.core.frame.DataFrame'>\n",
            "RangeIndex: 9298 entries, 0 to 9297\n",
            "Columns: 256 entries, 0 to 255\n",
            "dtypes: float64(256)\n",
            "memory usage: 18.2 MB\n"
          ]
        }
      ]
    },
    {
      "cell_type": "code",
      "source": [
        "#Print the number of classes\n",
        "print(Y_USPS.value_counts(),Y_USPS.info())"
      ],
      "metadata": {
        "id": "eSoXR-hCfhqD",
        "colab": {
          "base_uri": "https://localhost:8080/"
        },
        "outputId": "f928edce-d8d5-4556-aa58-9accee1a9178"
      },
      "execution_count": null,
      "outputs": [
        {
          "output_type": "stream",
          "name": "stdout",
          "text": [
            "<class 'pandas.core.frame.DataFrame'>\n",
            "RangeIndex: 9298 entries, 0 to 9297\n",
            "Data columns (total 1 columns):\n",
            " #   Column  Non-Null Count  Dtype\n",
            "---  ------  --------------  -----\n",
            " 0   0       9298 non-null   uint8\n",
            "dtypes: uint8(1)\n",
            "memory usage: 9.2 KB\n",
            "1     1553\n",
            "2     1269\n",
            "3      929\n",
            "5      852\n",
            "7      834\n",
            "4      824\n",
            "10     821\n",
            "8      792\n",
            "6      716\n",
            "9      708\n",
            "dtype: int64 None\n"
          ]
        }
      ]
    },
    {
      "cell_type": "markdown",
      "source": [
        "Step 3: Split the Dataset"
      ],
      "metadata": {
        "id": "jRHiJLgYivBD"
      }
    },
    {
      "cell_type": "code",
      "source": [
        "#Spilt data 20% testing and 80% training\n",
        "x_train, x_test, y_train, y_test = train_test_split(X_USPS, Y_USPS, test_size = 0.2 , random_state = 0)\n",
        "#(training samples , All data) (testing samples , All data)\n",
        "print(x_train.shape,x_test.shape)"
      ],
      "metadata": {
        "id": "lIpd3Eghi7R_",
        "colab": {
          "base_uri": "https://localhost:8080/"
        },
        "outputId": "f433c25a-c27a-4955-9527-5bbfa67d758e"
      },
      "execution_count": null,
      "outputs": [
        {
          "output_type": "stream",
          "name": "stdout",
          "text": [
            "(8451, 256) (847, 256)\n"
          ]
        }
      ]
    },
    {
      "cell_type": "markdown",
      "source": [
        "Step 4: Naïve Bayes Classifier"
      ],
      "metadata": {
        "id": "SMk2VnoJkdrs"
      }
    },
    {
      "cell_type": "markdown",
      "source": [
        "*a. Train a Naïve Bayes classifier on the training set.italicised text*"
      ],
      "metadata": {
        "id": "an0UIZFqkiZf"
      }
    },
    {
      "cell_type": "code",
      "source": [
        "# instantiate the model\n",
        "GNP = GaussianNB()\n",
        "# fit the model\n",
        "\n",
        "GNP.fit(x_train, y_train)\n",
        "StartTime = time.time()\n",
        "predictions = GNP.predict(x_test)\n",
        "EndTime = time.time()\n",
        "ElapsedTime = EndTime - StartTime\n",
        "print(f\"Elapsed time: {ElapsedTime} seconds\")\n",
        "predictions"
      ],
      "metadata": {
        "id": "jThoDxvdqJJF",
        "colab": {
          "base_uri": "https://localhost:8080/"
        },
        "outputId": "c644acfa-0077-4172-8b1c-2e04627e23e2"
      },
      "execution_count": null,
      "outputs": [
        {
          "output_type": "stream",
          "name": "stdout",
          "text": [
            "Elapsed time: 0.018651485443115234 seconds\n"
          ]
        },
        {
          "output_type": "stream",
          "name": "stderr",
          "text": [
            "/usr/local/lib/python3.10/dist-packages/sklearn/utils/validation.py:1143: DataConversionWarning: A column-vector y was passed when a 1d array was expected. Please change the shape of y to (n_samples, ), for example using ravel().\n",
            "  y = column_or_1d(y, warn=True)\n"
          ]
        },
        {
          "output_type": "execute_result",
          "data": {
            "text/plain": [
              "array([2, 8, 3, ..., 3, 4, 8], dtype=uint8)"
            ]
          },
          "metadata": {},
          "execution_count": 11
        }
      ]
    },
    {
      "cell_type": "markdown",
      "source": [
        "*b. Make predictions on the testing set.*"
      ],
      "metadata": {
        "id": "TycO0wn4kt8Z"
      }
    },
    {
      "cell_type": "code",
      "source": [
        "#print the accuracy, computation time, average and standard deviation\n",
        "print(\"Accuracy Score :\", 1 - accuracy_score(predictions, y_test))\n",
        "print(f\"Elapsed time : {ElapsedTime} seconds\")\n",
        "print(\"average : \", np.average(predictions))\n",
        "print(\"Standard Deviation : \", np.std(predictions))"
      ],
      "metadata": {
        "id": "2RipNJsbqO_4",
        "colab": {
          "base_uri": "https://localhost:8080/"
        },
        "outputId": "9e77c080-cfa3-4b2f-fb29-4ec376f9b381"
      },
      "execution_count": null,
      "outputs": [
        {
          "output_type": "stream",
          "name": "stdout",
          "text": [
            "Accuracy Score : 0.2182795698924731\n",
            "Elapsed time : 0.018651485443115234 seconds\n",
            "average :  5.327419354838709\n",
            "Standard Deviation :  3.2453110602691013\n"
          ]
        }
      ]
    },
    {
      "cell_type": "markdown",
      "source": [
        "Step 5: k-NN Classifier"
      ],
      "metadata": {
        "id": "4MYPc-tBk1LK"
      }
    },
    {
      "cell_type": "markdown",
      "source": [
        "a.Run k-NN classifier for k value = 1"
      ],
      "metadata": {
        "id": "as0JAdgif33W"
      }
    },
    {
      "cell_type": "code",
      "source": [
        "# instantiate the model\n",
        "knn = KNeighborsClassifier(1)\n",
        "# fit the model\n",
        "knn.fit(x_train, y_train)\n",
        "StartTime = time.time()\n",
        "predictions = knn.predict(x_test)\n",
        "EndTime = time.time()\n",
        "elapsed_time = EndTime - StartTime\n",
        "\n",
        "#print the accuracy and computation time\n",
        "print(\"Accuracy Score :\", 1 - accuracy_score(predictions, y_test))\n",
        "print(f\"Elapsed time : {ElapsedTime} seconds\")"
      ],
      "metadata": {
        "id": "tpZavSeaQmcp",
        "colab": {
          "base_uri": "https://localhost:8080/"
        },
        "outputId": "8e6b2bae-65d5-48d6-8066-714b65c9da18"
      },
      "execution_count": null,
      "outputs": [
        {
          "output_type": "stream",
          "name": "stderr",
          "text": [
            "/usr/local/lib/python3.10/dist-packages/sklearn/neighbors/_classification.py:215: DataConversionWarning: A column-vector y was passed when a 1d array was expected. Please change the shape of y to (n_samples,), for example using ravel().\n",
            "  return self._fit(X, y)\n"
          ]
        },
        {
          "output_type": "stream",
          "name": "stdout",
          "text": [
            "Accuracy Score : 0.025268817204301075\n",
            "Elapsed time : 0.018651485443115234 seconds\n"
          ]
        }
      ]
    },
    {
      "cell_type": "markdown",
      "source": [
        "b.Run k-NN classifier for k value = 3"
      ],
      "metadata": {
        "id": "gXsq6MZxf-fh"
      }
    },
    {
      "cell_type": "code",
      "source": [
        "# instantiate the model\n",
        "knn = KNeighborsClassifier(3)\n",
        "# fit the model\n",
        "knn.fit(x_train, y_train)\n",
        "StartTime = time.time()\n",
        "predictions = knn.predict(x_test)\n",
        "EndTime = time.time()\n",
        "elapsed_time = EndTime - StartTime\n",
        "\n",
        "#print the accuracy and computation time\n",
        "print(\"Accuracy Score :\", 1 - accuracy_score(predictions, y_test))\n",
        "print(f\"Elapsed time : {ElapsedTime} seconds\")"
      ],
      "metadata": {
        "id": "jSIL_tVzQrv7",
        "colab": {
          "base_uri": "https://localhost:8080/"
        },
        "outputId": "9c890c8e-11ef-4075-83da-7f87c6b55554"
      },
      "execution_count": null,
      "outputs": [
        {
          "output_type": "stream",
          "name": "stderr",
          "text": [
            "/usr/local/lib/python3.10/dist-packages/sklearn/neighbors/_classification.py:215: DataConversionWarning: A column-vector y was passed when a 1d array was expected. Please change the shape of y to (n_samples,), for example using ravel().\n",
            "  return self._fit(X, y)\n"
          ]
        },
        {
          "output_type": "stream",
          "name": "stdout",
          "text": [
            "Accuracy Score : 0.0317204301075269\n",
            "Elapsed time : 0.018651485443115234 seconds\n"
          ]
        }
      ]
    },
    {
      "cell_type": "markdown",
      "source": [
        "c.Run k-NN classifier for k value = 7"
      ],
      "metadata": {
        "id": "gbbowQPrgE0f"
      }
    },
    {
      "cell_type": "code",
      "source": [
        "# instantiate the model\n",
        "knn = KNeighborsClassifier(7)\n",
        "# fit the model\n",
        "knn.fit(x_train, y_train)\n",
        "StartTime = time.time()\n",
        "predictions = knn.predict(x_test)\n",
        "EndTime = time.time()\n",
        "elapsed_time = EndTime - StartTime\n",
        "\n",
        "#print the accuracy and computation time\n",
        "print(\"Accuracy Score :\", 1 - accuracy_score(predictions, y_test))\n",
        "print(f\"Elapsed time : {ElapsedTime} seconds\")"
      ],
      "metadata": {
        "colab": {
          "base_uri": "https://localhost:8080/"
        },
        "id": "9izP76PngHUp",
        "outputId": "72a75a1e-4e4b-4125-d617-4033a9996bc0"
      },
      "execution_count": null,
      "outputs": [
        {
          "output_type": "stream",
          "name": "stderr",
          "text": [
            "/usr/local/lib/python3.10/dist-packages/sklearn/neighbors/_classification.py:215: DataConversionWarning: A column-vector y was passed when a 1d array was expected. Please change the shape of y to (n_samples,), for example using ravel().\n",
            "  return self._fit(X, y)\n"
          ]
        },
        {
          "output_type": "stream",
          "name": "stdout",
          "text": [
            "Accuracy Score : 0.03655913978494618\n",
            "Elapsed time : 0.018651485443115234 seconds\n"
          ]
        }
      ]
    },
    {
      "cell_type": "markdown",
      "source": [
        "##**COIL20.mat file**\n"
      ],
      "metadata": {
        "id": "mofMqgxzs_oj"
      }
    },
    {
      "cell_type": "markdown",
      "source": [
        "Step 1: Load the Dataset"
      ],
      "metadata": {
        "id": "iqg_mZ4onHqY"
      }
    },
    {
      "cell_type": "code",
      "source": [
        "# Load pakages and Library for working\n",
        "from sklearn.model_selection import train_test_split\n",
        "# train a Gaussian Naive Bayes classifier on the training set\n",
        "from sklearn.naive_bayes import GaussianNB\n",
        "# import a KNeighbors classifier\n",
        "from sklearn.neighbors import KNeighborsClassifier\n",
        "# Test Accuracy\n",
        "from sklearn.metrics import accuracy_score\n",
        "# import time module to calc classification time in second\n",
        "import time\n",
        "# import the NumPy module\n",
        "import numpy as np\n",
        "# import the classification report module\n",
        "from sklearn.metrics import classification_report\n",
        "\n",
        "\n",
        "\n",
        "\n",
        "\n",
        "# Load the .mat file\n",
        "from scipy.io import loadmat\n",
        "import pandas as pd\n",
        "\n",
        "COIL20 = loadmat('/content/COIL20.mat')\n"
      ],
      "metadata": {
        "id": "L6JwIOXgnLCn"
      },
      "execution_count": null,
      "outputs": []
    },
    {
      "cell_type": "markdown",
      "source": [
        "Step 2: Data Exploration"
      ],
      "metadata": {
        "id": "WjVjs0frn3WO"
      }
    },
    {
      "cell_type": "code",
      "source": [
        "x = pd.DataFrame(COIL20['X'])\n",
        "y = pd.DataFrame(COIL20['Y'])\n",
        "\n",
        "#Print descriptive analysis about dataset\n",
        "x.describe()"
      ],
      "metadata": {
        "colab": {
          "base_uri": "https://localhost:8080/"
        },
        "id": "aoSybKOPn7qV",
        "outputId": "2394c0a1-5326-424e-bf8d-e43634e01508"
      },
      "execution_count": null,
      "outputs": [
        {
          "output_type": "stream",
          "name": "stdout",
          "text": [
            "[[0.01568627 0.01568627 0.01568627 ... 0.01568627 0.01568627 0.01568627]\n",
            " [0.01960784 0.01960784 0.01960784 ... 0.01960784 0.01960784 0.01960784]\n",
            " [0.01568627 0.01568627 0.01568627 ... 0.01568627 0.01568627 0.01568627]\n",
            " ...\n",
            " [0.         0.         0.         ... 0.         0.         0.        ]\n",
            " [0.         0.         0.         ... 0.         0.         0.        ]\n",
            " [0.         0.         0.         ... 0.         0.         0.        ]]\n",
            "[ 1  1  1 ... 20 20 20]\n"
          ]
        }
      ]
    },
    {
      "cell_type": "code",
      "source": [
        "#Print the number of samples and the number of features\n",
        "#RangeIndex = samples, Columns = features)\n",
        "x.info()"
      ],
      "metadata": {
        "id": "bLNbbZ1zgHKL"
      },
      "execution_count": null,
      "outputs": []
    },
    {
      "cell_type": "code",
      "source": [
        "#Print the number of classes\n",
        "print(y.value_counts(),y.info())"
      ],
      "metadata": {
        "id": "GlCQSTM6gHfg"
      },
      "execution_count": null,
      "outputs": []
    },
    {
      "cell_type": "markdown",
      "source": [
        "Step 3: Split the Dataset"
      ],
      "metadata": {
        "id": "8Tpzc6TloMUg"
      }
    },
    {
      "cell_type": "code",
      "source": [
        "#Spilt data 20% testing and 80% training\n",
        "x_train, x_test, y_train, y_test = train_test_split(x, y, test_size = 0.2 , random_state = 0)\n",
        "#(training samples , All data) (testing samples , All data)\n",
        "print(x_train.shape,x_test.shape)"
      ],
      "metadata": {
        "id": "3-vkIIKZoRQq"
      },
      "execution_count": null,
      "outputs": []
    },
    {
      "cell_type": "markdown",
      "source": [
        "Step 4: Naïve Bayes Classifier"
      ],
      "metadata": {
        "id": "sftZxo2roVg0"
      }
    },
    {
      "cell_type": "markdown",
      "source": [
        "a. Train a Naïve Bayes classifier on the training set."
      ],
      "metadata": {
        "id": "p34IXcSpnqTq"
      }
    },
    {
      "cell_type": "code",
      "source": [
        "# instantiate the model\n",
        "GNP = GaussianNB()\n",
        "# fit the model\n",
        "\n",
        "GNP.fit(x_train, y_train)\n",
        "StartTime = time.time()\n",
        "predictions = GNP.predict(x_test)\n",
        "EndTime = time.time()\n",
        "ElapsedTime = EndTime - StartTime\n",
        "print(f\"Elapsed time: {ElapsedTime} seconds\")\n",
        "predictions"
      ],
      "metadata": {
        "id": "jnucSDhDoe07"
      },
      "execution_count": null,
      "outputs": []
    },
    {
      "cell_type": "markdown",
      "source": [
        "b. Make predictions on the testing set."
      ],
      "metadata": {
        "id": "ATeHCa23oloo"
      }
    },
    {
      "cell_type": "code",
      "source": [
        "#print the accuracy, computation time, average and standard deviation\n",
        "print(\"Accuracy Score :\", 1 - accuracy_score(predictions, y_test))\n",
        "print(f\"Elapsed time : {ElapsedTime} seconds\")\n",
        "print(\"average : \", np.average(predictions))\n",
        "print(\"Standard Deviation : \", np.std(predictions))"
      ],
      "metadata": {
        "id": "_9aldXQwoq6D"
      },
      "execution_count": null,
      "outputs": []
    },
    {
      "cell_type": "markdown",
      "source": [
        "Step 5: k-NN Classifier"
      ],
      "metadata": {
        "id": "G7_YsLb9ousg"
      }
    },
    {
      "cell_type": "markdown",
      "source": [
        "a.Run k-NN classifier for k value = 1"
      ],
      "metadata": {
        "id": "30wPuu3TgU19"
      }
    },
    {
      "cell_type": "code",
      "source": [
        "# instantiate the model\n",
        "knn = KNeighborsClassifier(1)\n",
        "# fit the model\n",
        "knn.fit(x_train, y_train)\n",
        "StartTime = time.time()\n",
        "predictions = knn.predict(x_test)\n",
        "EndTime = time.time()\n",
        "elapsed_time = EndTime - StartTime\n",
        "\n",
        "#print the accuracy and computation time\n",
        "print(\"Accuracy Score :\", 1 - accuracy_score(predictions, y_test))\n",
        "print(f\"Elapsed time : {ElapsedTime} seconds\")"
      ],
      "metadata": {
        "id": "bCUc2n1-o_En"
      },
      "execution_count": null,
      "outputs": []
    },
    {
      "cell_type": "markdown",
      "source": [
        "b.Run k-NN classifier for k value = 3"
      ],
      "metadata": {
        "id": "oD-9phOygaa9"
      }
    },
    {
      "cell_type": "code",
      "source": [
        "# instantiate the model\n",
        "knn = KNeighborsClassifier(3)\n",
        "# fit the model\n",
        "knn.fit(x_train, y_train)\n",
        "StartTime = time.time()\n",
        "predictions = knn.predict(x_test)\n",
        "EndTime = time.time()\n",
        "elapsed_time = EndTime - StartTime\n",
        "\n",
        "#print the accuracy and computation time\n",
        "print(\"Accuracy Score :\", 1 - accuracy_score(predictions, y_test))\n",
        "print(f\"Elapsed time : {ElapsedTime} seconds\")"
      ],
      "metadata": {
        "colab": {
          "base_uri": "https://localhost:8080/"
        },
        "id": "dmhoueqhpfQw",
        "outputId": "5fb1d94a-3a42-4540-cea4-5b928a8bd7f9"
      },
      "execution_count": null,
      "outputs": [
        {
          "output_type": "stream",
          "name": "stdout",
          "text": [
            "Naïve Bayes Classifier:\n",
            "Classification Time: 0.01 seconds\n",
            "Classification Accuracy: 0.91\n",
            "Error Rate: 0.09\n",
            "\n",
            "k-NN Classifier:\n",
            "k = 1\n",
            "Classification Time: 0.00 seconds\n",
            "Classification Accuracy: 1.00\n",
            "\n",
            "k = 3\n",
            "Classification Time: 0.00 seconds\n",
            "Classification Accuracy: 1.00\n",
            "\n",
            "k = 7\n",
            "Classification Time: 0.00 seconds\n",
            "Classification Accuracy: 0.94\n",
            "\n"
          ]
        }
      ]
    },
    {
      "cell_type": "markdown",
      "source": [
        "c.Run k-NN classifier for k value = 7"
      ],
      "metadata": {
        "id": "4ahF53ZRgfUr"
      }
    },
    {
      "cell_type": "code",
      "source": [
        "# instantiate the model\n",
        "knn = KNeighborsClassifier(7)\n",
        "# fit the model\n",
        "knn.fit(x_train, y_train)\n",
        "StartTime = time.time()\n",
        "predictions = knn.predict(x_test)\n",
        "EndTime = time.time()\n",
        "elapsed_time = EndTime - StartTime\n",
        "\n",
        "#print the accuracy and computation time\n",
        "print(\"Accuracy Score :\", 1 - accuracy_score(predictions, y_test))\n",
        "print(f\"Elapsed time : {ElapsedTime} seconds\")"
      ],
      "metadata": {
        "id": "JejbjOsdghv1"
      },
      "execution_count": null,
      "outputs": []
    },
    {
      "cell_type": "markdown",
      "source": [
        "##**warpPIE10P.mat file**\n"
      ],
      "metadata": {
        "id": "KAHUnNuIUeL1"
      }
    },
    {
      "cell_type": "markdown",
      "source": [
        "Step 1: Load the Dataset"
      ],
      "metadata": {
        "id": "uC6a1rxfUeL3"
      }
    },
    {
      "cell_type": "code",
      "source": [
        "# Load pakages and Library for working\n",
        "from sklearn.model_selection import train_test_split\n",
        "# train a Gaussian Naive Bayes classifier on the training set\n",
        "from sklearn.naive_bayes import GaussianNB\n",
        "# import a KNeighbors classifier\n",
        "from sklearn.neighbors import KNeighborsClassifier\n",
        "# Test Accuracy\n",
        "from sklearn.metrics import accuracy_score\n",
        "# import time module to calc classification time in second\n",
        "import time\n",
        "# import the NumPy module\n",
        "import numpy as np\n",
        "# import the classification report module\n",
        "from sklearn.metrics import classification_report\n",
        "\n",
        "\n",
        "\n",
        "\n",
        "\n",
        "# Load the .mat file\n",
        "from scipy.io import loadmat\n",
        "import pandas as pd\n",
        "\n",
        "warpPIE10P = loadmat('/content/warpPIE10P.mat')\n"
      ],
      "metadata": {
        "id": "7dO97UcJUeL5"
      },
      "execution_count": null,
      "outputs": []
    },
    {
      "cell_type": "markdown",
      "source": [
        "Step 2: Data Exploration"
      ],
      "metadata": {
        "id": "SKkls892UeL5"
      }
    },
    {
      "cell_type": "code",
      "source": [
        "x = pd.DataFrame(warpPIE10P['X'])\n",
        "y = pd.DataFrame(warpPIE10P['Y'])\n",
        "\n",
        "#Print descriptive analysis about dataset\n",
        "x.describe()"
      ],
      "metadata": {
        "colab": {
          "base_uri": "https://localhost:8080/",
          "height": 363
        },
        "outputId": "a9251287-9881-4931-93bd-bc3cca0d4041",
        "id": "4q8sV0r-UeL6"
      },
      "execution_count": null,
      "outputs": [
        {
          "output_type": "execute_result",
          "data": {
            "text/plain": [
              "             0           1           2           3           4           5     \\\n",
              "count  210.000000  210.000000  210.000000  210.000000  210.000000  210.000000   \n",
              "mean    11.147619   13.047619   12.338095   12.909524   13.576190   14.533333   \n",
              "std     14.359770   21.208187   16.321090   13.755083   12.474525   15.433182   \n",
              "min      1.000000    3.000000    1.000000    3.000000    1.000000    2.000000   \n",
              "25%      5.000000    5.000000    5.000000    5.000000    5.000000    5.000000   \n",
              "50%      7.000000    8.000000    7.000000    8.000000    9.000000    9.000000   \n",
              "75%     10.000000   11.000000   12.000000   13.000000   16.000000   15.000000   \n",
              "max    105.000000  230.000000  135.000000  103.000000   72.000000  100.000000   \n",
              "\n",
              "             6           7           8           9     ...        2410  \\\n",
              "count  210.000000  210.000000  210.000000  210.000000  ...  210.000000   \n",
              "mean    13.461905   13.180952   15.266667   17.252381  ...   51.242857   \n",
              "std     11.821276   11.340136   15.261840   16.328509  ...   41.979638   \n",
              "min      2.000000    3.000000    1.000000    3.000000  ...    4.000000   \n",
              "25%      5.000000    5.000000    5.000000    6.000000  ...   25.000000   \n",
              "50%      9.000000    8.000000    9.000000   10.000000  ...   40.000000   \n",
              "75%     18.000000   16.000000   19.750000   22.000000  ...   65.000000   \n",
              "max     88.000000   66.000000   77.000000   77.000000  ...  248.000000   \n",
              "\n",
              "             2411        2412        2413        2414        2415        2416  \\\n",
              "count  210.000000  210.000000  210.000000  210.000000  210.000000  210.000000   \n",
              "mean    49.709524   51.961905   55.823810   56.371429   51.947619   53.704762   \n",
              "std     40.993364   40.877439   40.725507   42.528517   41.428004   39.981556   \n",
              "min      5.000000    6.000000    6.000000    3.000000    3.000000    6.000000   \n",
              "25%     24.250000   28.000000   28.000000   27.000000   26.250000   28.000000   \n",
              "50%     39.000000   40.000000   47.000000   44.000000   38.000000   41.000000   \n",
              "75%     59.000000   61.750000   72.000000   76.000000   63.000000   65.750000   \n",
              "max    248.000000  234.000000  235.000000  233.000000  228.000000  233.000000   \n",
              "\n",
              "             2417        2418        2419  \n",
              "count  210.000000  210.000000  210.000000  \n",
              "mean    52.385714   57.042857   58.195238  \n",
              "std     41.098537   43.596267   44.684379  \n",
              "min      3.000000    3.000000    3.000000  \n",
              "25%     25.000000   18.250000   19.000000  \n",
              "50%     41.500000   48.500000   48.500000  \n",
              "75%     73.000000   91.500000   89.750000  \n",
              "max    222.000000  214.000000  209.000000  \n",
              "\n",
              "[8 rows x 2420 columns]"
            ],
            "text/html": [
              "\n",
              "  <div id=\"df-2e758f3a-fa3f-4799-b895-b3146555e933\" class=\"colab-df-container\">\n",
              "    <div>\n",
              "<style scoped>\n",
              "    .dataframe tbody tr th:only-of-type {\n",
              "        vertical-align: middle;\n",
              "    }\n",
              "\n",
              "    .dataframe tbody tr th {\n",
              "        vertical-align: top;\n",
              "    }\n",
              "\n",
              "    .dataframe thead th {\n",
              "        text-align: right;\n",
              "    }\n",
              "</style>\n",
              "<table border=\"1\" class=\"dataframe\">\n",
              "  <thead>\n",
              "    <tr style=\"text-align: right;\">\n",
              "      <th></th>\n",
              "      <th>0</th>\n",
              "      <th>1</th>\n",
              "      <th>2</th>\n",
              "      <th>3</th>\n",
              "      <th>4</th>\n",
              "      <th>5</th>\n",
              "      <th>6</th>\n",
              "      <th>7</th>\n",
              "      <th>8</th>\n",
              "      <th>9</th>\n",
              "      <th>...</th>\n",
              "      <th>2410</th>\n",
              "      <th>2411</th>\n",
              "      <th>2412</th>\n",
              "      <th>2413</th>\n",
              "      <th>2414</th>\n",
              "      <th>2415</th>\n",
              "      <th>2416</th>\n",
              "      <th>2417</th>\n",
              "      <th>2418</th>\n",
              "      <th>2419</th>\n",
              "    </tr>\n",
              "  </thead>\n",
              "  <tbody>\n",
              "    <tr>\n",
              "      <th>count</th>\n",
              "      <td>210.000000</td>\n",
              "      <td>210.000000</td>\n",
              "      <td>210.000000</td>\n",
              "      <td>210.000000</td>\n",
              "      <td>210.000000</td>\n",
              "      <td>210.000000</td>\n",
              "      <td>210.000000</td>\n",
              "      <td>210.000000</td>\n",
              "      <td>210.000000</td>\n",
              "      <td>210.000000</td>\n",
              "      <td>...</td>\n",
              "      <td>210.000000</td>\n",
              "      <td>210.000000</td>\n",
              "      <td>210.000000</td>\n",
              "      <td>210.000000</td>\n",
              "      <td>210.000000</td>\n",
              "      <td>210.000000</td>\n",
              "      <td>210.000000</td>\n",
              "      <td>210.000000</td>\n",
              "      <td>210.000000</td>\n",
              "      <td>210.000000</td>\n",
              "    </tr>\n",
              "    <tr>\n",
              "      <th>mean</th>\n",
              "      <td>11.147619</td>\n",
              "      <td>13.047619</td>\n",
              "      <td>12.338095</td>\n",
              "      <td>12.909524</td>\n",
              "      <td>13.576190</td>\n",
              "      <td>14.533333</td>\n",
              "      <td>13.461905</td>\n",
              "      <td>13.180952</td>\n",
              "      <td>15.266667</td>\n",
              "      <td>17.252381</td>\n",
              "      <td>...</td>\n",
              "      <td>51.242857</td>\n",
              "      <td>49.709524</td>\n",
              "      <td>51.961905</td>\n",
              "      <td>55.823810</td>\n",
              "      <td>56.371429</td>\n",
              "      <td>51.947619</td>\n",
              "      <td>53.704762</td>\n",
              "      <td>52.385714</td>\n",
              "      <td>57.042857</td>\n",
              "      <td>58.195238</td>\n",
              "    </tr>\n",
              "    <tr>\n",
              "      <th>std</th>\n",
              "      <td>14.359770</td>\n",
              "      <td>21.208187</td>\n",
              "      <td>16.321090</td>\n",
              "      <td>13.755083</td>\n",
              "      <td>12.474525</td>\n",
              "      <td>15.433182</td>\n",
              "      <td>11.821276</td>\n",
              "      <td>11.340136</td>\n",
              "      <td>15.261840</td>\n",
              "      <td>16.328509</td>\n",
              "      <td>...</td>\n",
              "      <td>41.979638</td>\n",
              "      <td>40.993364</td>\n",
              "      <td>40.877439</td>\n",
              "      <td>40.725507</td>\n",
              "      <td>42.528517</td>\n",
              "      <td>41.428004</td>\n",
              "      <td>39.981556</td>\n",
              "      <td>41.098537</td>\n",
              "      <td>43.596267</td>\n",
              "      <td>44.684379</td>\n",
              "    </tr>\n",
              "    <tr>\n",
              "      <th>min</th>\n",
              "      <td>1.000000</td>\n",
              "      <td>3.000000</td>\n",
              "      <td>1.000000</td>\n",
              "      <td>3.000000</td>\n",
              "      <td>1.000000</td>\n",
              "      <td>2.000000</td>\n",
              "      <td>2.000000</td>\n",
              "      <td>3.000000</td>\n",
              "      <td>1.000000</td>\n",
              "      <td>3.000000</td>\n",
              "      <td>...</td>\n",
              "      <td>4.000000</td>\n",
              "      <td>5.000000</td>\n",
              "      <td>6.000000</td>\n",
              "      <td>6.000000</td>\n",
              "      <td>3.000000</td>\n",
              "      <td>3.000000</td>\n",
              "      <td>6.000000</td>\n",
              "      <td>3.000000</td>\n",
              "      <td>3.000000</td>\n",
              "      <td>3.000000</td>\n",
              "    </tr>\n",
              "    <tr>\n",
              "      <th>25%</th>\n",
              "      <td>5.000000</td>\n",
              "      <td>5.000000</td>\n",
              "      <td>5.000000</td>\n",
              "      <td>5.000000</td>\n",
              "      <td>5.000000</td>\n",
              "      <td>5.000000</td>\n",
              "      <td>5.000000</td>\n",
              "      <td>5.000000</td>\n",
              "      <td>5.000000</td>\n",
              "      <td>6.000000</td>\n",
              "      <td>...</td>\n",
              "      <td>25.000000</td>\n",
              "      <td>24.250000</td>\n",
              "      <td>28.000000</td>\n",
              "      <td>28.000000</td>\n",
              "      <td>27.000000</td>\n",
              "      <td>26.250000</td>\n",
              "      <td>28.000000</td>\n",
              "      <td>25.000000</td>\n",
              "      <td>18.250000</td>\n",
              "      <td>19.000000</td>\n",
              "    </tr>\n",
              "    <tr>\n",
              "      <th>50%</th>\n",
              "      <td>7.000000</td>\n",
              "      <td>8.000000</td>\n",
              "      <td>7.000000</td>\n",
              "      <td>8.000000</td>\n",
              "      <td>9.000000</td>\n",
              "      <td>9.000000</td>\n",
              "      <td>9.000000</td>\n",
              "      <td>8.000000</td>\n",
              "      <td>9.000000</td>\n",
              "      <td>10.000000</td>\n",
              "      <td>...</td>\n",
              "      <td>40.000000</td>\n",
              "      <td>39.000000</td>\n",
              "      <td>40.000000</td>\n",
              "      <td>47.000000</td>\n",
              "      <td>44.000000</td>\n",
              "      <td>38.000000</td>\n",
              "      <td>41.000000</td>\n",
              "      <td>41.500000</td>\n",
              "      <td>48.500000</td>\n",
              "      <td>48.500000</td>\n",
              "    </tr>\n",
              "    <tr>\n",
              "      <th>75%</th>\n",
              "      <td>10.000000</td>\n",
              "      <td>11.000000</td>\n",
              "      <td>12.000000</td>\n",
              "      <td>13.000000</td>\n",
              "      <td>16.000000</td>\n",
              "      <td>15.000000</td>\n",
              "      <td>18.000000</td>\n",
              "      <td>16.000000</td>\n",
              "      <td>19.750000</td>\n",
              "      <td>22.000000</td>\n",
              "      <td>...</td>\n",
              "      <td>65.000000</td>\n",
              "      <td>59.000000</td>\n",
              "      <td>61.750000</td>\n",
              "      <td>72.000000</td>\n",
              "      <td>76.000000</td>\n",
              "      <td>63.000000</td>\n",
              "      <td>65.750000</td>\n",
              "      <td>73.000000</td>\n",
              "      <td>91.500000</td>\n",
              "      <td>89.750000</td>\n",
              "    </tr>\n",
              "    <tr>\n",
              "      <th>max</th>\n",
              "      <td>105.000000</td>\n",
              "      <td>230.000000</td>\n",
              "      <td>135.000000</td>\n",
              "      <td>103.000000</td>\n",
              "      <td>72.000000</td>\n",
              "      <td>100.000000</td>\n",
              "      <td>88.000000</td>\n",
              "      <td>66.000000</td>\n",
              "      <td>77.000000</td>\n",
              "      <td>77.000000</td>\n",
              "      <td>...</td>\n",
              "      <td>248.000000</td>\n",
              "      <td>248.000000</td>\n",
              "      <td>234.000000</td>\n",
              "      <td>235.000000</td>\n",
              "      <td>233.000000</td>\n",
              "      <td>228.000000</td>\n",
              "      <td>233.000000</td>\n",
              "      <td>222.000000</td>\n",
              "      <td>214.000000</td>\n",
              "      <td>209.000000</td>\n",
              "    </tr>\n",
              "  </tbody>\n",
              "</table>\n",
              "<p>8 rows × 2420 columns</p>\n",
              "</div>\n",
              "    <div class=\"colab-df-buttons\">\n",
              "\n",
              "  <div class=\"colab-df-container\">\n",
              "    <button class=\"colab-df-convert\" onclick=\"convertToInteractive('df-2e758f3a-fa3f-4799-b895-b3146555e933')\"\n",
              "            title=\"Convert this dataframe to an interactive table.\"\n",
              "            style=\"display:none;\">\n",
              "\n",
              "  <svg xmlns=\"http://www.w3.org/2000/svg\" height=\"24px\" viewBox=\"0 -960 960 960\">\n",
              "    <path d=\"M120-120v-720h720v720H120Zm60-500h600v-160H180v160Zm220 220h160v-160H400v160Zm0 220h160v-160H400v160ZM180-400h160v-160H180v160Zm440 0h160v-160H620v160ZM180-180h160v-160H180v160Zm440 0h160v-160H620v160Z\"/>\n",
              "  </svg>\n",
              "    </button>\n",
              "\n",
              "  <style>\n",
              "    .colab-df-container {\n",
              "      display:flex;\n",
              "      gap: 12px;\n",
              "    }\n",
              "\n",
              "    .colab-df-convert {\n",
              "      background-color: #E8F0FE;\n",
              "      border: none;\n",
              "      border-radius: 50%;\n",
              "      cursor: pointer;\n",
              "      display: none;\n",
              "      fill: #1967D2;\n",
              "      height: 32px;\n",
              "      padding: 0 0 0 0;\n",
              "      width: 32px;\n",
              "    }\n",
              "\n",
              "    .colab-df-convert:hover {\n",
              "      background-color: #E2EBFA;\n",
              "      box-shadow: 0px 1px 2px rgba(60, 64, 67, 0.3), 0px 1px 3px 1px rgba(60, 64, 67, 0.15);\n",
              "      fill: #174EA6;\n",
              "    }\n",
              "\n",
              "    .colab-df-buttons div {\n",
              "      margin-bottom: 4px;\n",
              "    }\n",
              "\n",
              "    [theme=dark] .colab-df-convert {\n",
              "      background-color: #3B4455;\n",
              "      fill: #D2E3FC;\n",
              "    }\n",
              "\n",
              "    [theme=dark] .colab-df-convert:hover {\n",
              "      background-color: #434B5C;\n",
              "      box-shadow: 0px 1px 3px 1px rgba(0, 0, 0, 0.15);\n",
              "      filter: drop-shadow(0px 1px 2px rgba(0, 0, 0, 0.3));\n",
              "      fill: #FFFFFF;\n",
              "    }\n",
              "  </style>\n",
              "\n",
              "    <script>\n",
              "      const buttonEl =\n",
              "        document.querySelector('#df-2e758f3a-fa3f-4799-b895-b3146555e933 button.colab-df-convert');\n",
              "      buttonEl.style.display =\n",
              "        google.colab.kernel.accessAllowed ? 'block' : 'none';\n",
              "\n",
              "      async function convertToInteractive(key) {\n",
              "        const element = document.querySelector('#df-2e758f3a-fa3f-4799-b895-b3146555e933');\n",
              "        const dataTable =\n",
              "          await google.colab.kernel.invokeFunction('convertToInteractive',\n",
              "                                                    [key], {});\n",
              "        if (!dataTable) return;\n",
              "\n",
              "        const docLinkHtml = 'Like what you see? Visit the ' +\n",
              "          '<a target=\"_blank\" href=https://colab.research.google.com/notebooks/data_table.ipynb>data table notebook</a>'\n",
              "          + ' to learn more about interactive tables.';\n",
              "        element.innerHTML = '';\n",
              "        dataTable['output_type'] = 'display_data';\n",
              "        await google.colab.output.renderOutput(dataTable, element);\n",
              "        const docLink = document.createElement('div');\n",
              "        docLink.innerHTML = docLinkHtml;\n",
              "        element.appendChild(docLink);\n",
              "      }\n",
              "    </script>\n",
              "  </div>\n",
              "\n",
              "\n",
              "<div id=\"df-a859e5ed-e877-4620-858a-bd260933d536\">\n",
              "  <button class=\"colab-df-quickchart\" onclick=\"quickchart('df-a859e5ed-e877-4620-858a-bd260933d536')\"\n",
              "            title=\"Suggest charts.\"\n",
              "            style=\"display:none;\">\n",
              "\n",
              "<svg xmlns=\"http://www.w3.org/2000/svg\" height=\"24px\"viewBox=\"0 0 24 24\"\n",
              "     width=\"24px\">\n",
              "    <g>\n",
              "        <path d=\"M19 3H5c-1.1 0-2 .9-2 2v14c0 1.1.9 2 2 2h14c1.1 0 2-.9 2-2V5c0-1.1-.9-2-2-2zM9 17H7v-7h2v7zm4 0h-2V7h2v10zm4 0h-2v-4h2v4z\"/>\n",
              "    </g>\n",
              "</svg>\n",
              "  </button>\n",
              "\n",
              "<style>\n",
              "  .colab-df-quickchart {\n",
              "      --bg-color: #E8F0FE;\n",
              "      --fill-color: #1967D2;\n",
              "      --hover-bg-color: #E2EBFA;\n",
              "      --hover-fill-color: #174EA6;\n",
              "      --disabled-fill-color: #AAA;\n",
              "      --disabled-bg-color: #DDD;\n",
              "  }\n",
              "\n",
              "  [theme=dark] .colab-df-quickchart {\n",
              "      --bg-color: #3B4455;\n",
              "      --fill-color: #D2E3FC;\n",
              "      --hover-bg-color: #434B5C;\n",
              "      --hover-fill-color: #FFFFFF;\n",
              "      --disabled-bg-color: #3B4455;\n",
              "      --disabled-fill-color: #666;\n",
              "  }\n",
              "\n",
              "  .colab-df-quickchart {\n",
              "    background-color: var(--bg-color);\n",
              "    border: none;\n",
              "    border-radius: 50%;\n",
              "    cursor: pointer;\n",
              "    display: none;\n",
              "    fill: var(--fill-color);\n",
              "    height: 32px;\n",
              "    padding: 0;\n",
              "    width: 32px;\n",
              "  }\n",
              "\n",
              "  .colab-df-quickchart:hover {\n",
              "    background-color: var(--hover-bg-color);\n",
              "    box-shadow: 0 1px 2px rgba(60, 64, 67, 0.3), 0 1px 3px 1px rgba(60, 64, 67, 0.15);\n",
              "    fill: var(--button-hover-fill-color);\n",
              "  }\n",
              "\n",
              "  .colab-df-quickchart-complete:disabled,\n",
              "  .colab-df-quickchart-complete:disabled:hover {\n",
              "    background-color: var(--disabled-bg-color);\n",
              "    fill: var(--disabled-fill-color);\n",
              "    box-shadow: none;\n",
              "  }\n",
              "\n",
              "  .colab-df-spinner {\n",
              "    border: 2px solid var(--fill-color);\n",
              "    border-color: transparent;\n",
              "    border-bottom-color: var(--fill-color);\n",
              "    animation:\n",
              "      spin 1s steps(1) infinite;\n",
              "  }\n",
              "\n",
              "  @keyframes spin {\n",
              "    0% {\n",
              "      border-color: transparent;\n",
              "      border-bottom-color: var(--fill-color);\n",
              "      border-left-color: var(--fill-color);\n",
              "    }\n",
              "    20% {\n",
              "      border-color: transparent;\n",
              "      border-left-color: var(--fill-color);\n",
              "      border-top-color: var(--fill-color);\n",
              "    }\n",
              "    30% {\n",
              "      border-color: transparent;\n",
              "      border-left-color: var(--fill-color);\n",
              "      border-top-color: var(--fill-color);\n",
              "      border-right-color: var(--fill-color);\n",
              "    }\n",
              "    40% {\n",
              "      border-color: transparent;\n",
              "      border-right-color: var(--fill-color);\n",
              "      border-top-color: var(--fill-color);\n",
              "    }\n",
              "    60% {\n",
              "      border-color: transparent;\n",
              "      border-right-color: var(--fill-color);\n",
              "    }\n",
              "    80% {\n",
              "      border-color: transparent;\n",
              "      border-right-color: var(--fill-color);\n",
              "      border-bottom-color: var(--fill-color);\n",
              "    }\n",
              "    90% {\n",
              "      border-color: transparent;\n",
              "      border-bottom-color: var(--fill-color);\n",
              "    }\n",
              "  }\n",
              "</style>\n",
              "\n",
              "  <script>\n",
              "    async function quickchart(key) {\n",
              "      const quickchartButtonEl =\n",
              "        document.querySelector('#' + key + ' button');\n",
              "      quickchartButtonEl.disabled = true;  // To prevent multiple clicks.\n",
              "      quickchartButtonEl.classList.add('colab-df-spinner');\n",
              "      try {\n",
              "        const charts = await google.colab.kernel.invokeFunction(\n",
              "            'suggestCharts', [key], {});\n",
              "      } catch (error) {\n",
              "        console.error('Error during call to suggestCharts:', error);\n",
              "      }\n",
              "      quickchartButtonEl.classList.remove('colab-df-spinner');\n",
              "      quickchartButtonEl.classList.add('colab-df-quickchart-complete');\n",
              "    }\n",
              "    (() => {\n",
              "      let quickchartButtonEl =\n",
              "        document.querySelector('#df-a859e5ed-e877-4620-858a-bd260933d536 button');\n",
              "      quickchartButtonEl.style.display =\n",
              "        google.colab.kernel.accessAllowed ? 'block' : 'none';\n",
              "    })();\n",
              "  </script>\n",
              "</div>\n",
              "    </div>\n",
              "  </div>\n"
            ]
          },
          "metadata": {},
          "execution_count": 7
        },
        {
          "output_type": "display_data",
          "data": {
            "text/plain": [
              "<Figure size 600x480 with 0 Axes>"
            ]
          },
          "metadata": {}
        }
      ]
    },
    {
      "cell_type": "code",
      "source": [
        "#Print the number of samples and the number of features\n",
        "#RangeIndex = samples, Columns = features)\n",
        "x.info()"
      ],
      "metadata": {
        "colab": {
          "base_uri": "https://localhost:8080/"
        },
        "id": "qOo44U86UeL7",
        "outputId": "ce7dfb5b-c35b-499a-97df-623d56ba17a9"
      },
      "execution_count": null,
      "outputs": [
        {
          "output_type": "stream",
          "name": "stdout",
          "text": [
            "<class 'pandas.core.frame.DataFrame'>\n",
            "RangeIndex: 210 entries, 0 to 209\n",
            "Columns: 2420 entries, 0 to 2419\n",
            "dtypes: uint8(2420)\n",
            "memory usage: 496.4 KB\n"
          ]
        }
      ]
    },
    {
      "cell_type": "code",
      "source": [
        "#Print the number of classes\n",
        "print(y.value_counts(),y.info())"
      ],
      "metadata": {
        "colab": {
          "base_uri": "https://localhost:8080/"
        },
        "id": "mLzPlJc_UeL7",
        "outputId": "3327c0cd-143f-4132-9e3a-841a6d4457e7"
      },
      "execution_count": null,
      "outputs": [
        {
          "output_type": "stream",
          "name": "stdout",
          "text": [
            "<class 'pandas.core.frame.DataFrame'>\n",
            "RangeIndex: 210 entries, 0 to 209\n",
            "Data columns (total 1 columns):\n",
            " #   Column  Non-Null Count  Dtype\n",
            "---  ------  --------------  -----\n",
            " 0   0       210 non-null    uint8\n",
            "dtypes: uint8(1)\n",
            "memory usage: 338.0 bytes\n",
            "1     21\n",
            "2     21\n",
            "3     21\n",
            "4     21\n",
            "5     21\n",
            "6     21\n",
            "7     21\n",
            "8     21\n",
            "9     21\n",
            "10    21\n",
            "dtype: int64 None\n"
          ]
        }
      ]
    },
    {
      "cell_type": "markdown",
      "source": [
        "Step 3: Split the Dataset"
      ],
      "metadata": {
        "id": "V-iEnXWqUeL8"
      }
    },
    {
      "cell_type": "code",
      "source": [
        "#Spilt data, the test set should have 20 points\n",
        "x_train, x_test, y_train, y_test = train_test_split(x, y, test_size = 0.091 , random_state = 0)\n",
        "x_test\n",
        "\n",
        "#(training samples , All data) (The test set have 20 point , All data)\n",
        "print(x_train.shape,x_test.shape)\n"
      ],
      "metadata": {
        "colab": {
          "base_uri": "https://localhost:8080/"
        },
        "id": "fznXhF0UUeL8",
        "outputId": "34661051-17c2-481d-da30-a007fd235d1e"
      },
      "execution_count": null,
      "outputs": [
        {
          "output_type": "stream",
          "name": "stdout",
          "text": [
            "(190, 2420) (20, 2420)\n"
          ]
        }
      ]
    },
    {
      "cell_type": "markdown",
      "source": [
        "Step 4: Naïve Bayes Classifier"
      ],
      "metadata": {
        "id": "sbF9ae7fUeL9"
      }
    },
    {
      "cell_type": "markdown",
      "source": [
        "a. Train a Naïve Bayes classifier on the training set."
      ],
      "metadata": {
        "id": "w3rUxKMjUeL9"
      }
    },
    {
      "cell_type": "code",
      "source": [
        "# instantiate the model\n",
        "GNP = GaussianNB()\n",
        "# fit the model\n",
        "\n",
        "GNP.fit(x_train, y_train)\n",
        "StartTime = time.time()\n",
        "predictions = GNP.predict(x_test)\n",
        "EndTime = time.time()\n",
        "ElapsedTime = EndTime - StartTime\n",
        "print(f\"Elapsed time: {ElapsedTime} seconds\")\n",
        "predictions"
      ],
      "metadata": {
        "colab": {
          "base_uri": "https://localhost:8080/"
        },
        "id": "n0bn4bEtUeL-",
        "outputId": "6d3ea19c-2d46-43e3-9d46-f10b056188e4"
      },
      "execution_count": null,
      "outputs": [
        {
          "output_type": "stream",
          "name": "stdout",
          "text": [
            "Elapsed time: 0.03019094467163086 seconds\n"
          ]
        },
        {
          "output_type": "stream",
          "name": "stderr",
          "text": [
            "/usr/local/lib/python3.10/dist-packages/sklearn/utils/validation.py:1143: DataConversionWarning: A column-vector y was passed when a 1d array was expected. Please change the shape of y to (n_samples, ), for example using ravel().\n",
            "  y = column_or_1d(y, warn=True)\n"
          ]
        },
        {
          "output_type": "execute_result",
          "data": {
            "text/plain": [
              "array([ 1,  4,  2,  1,  3,  4,  6,  6,  5,  8,  3,  8,  3, 10,  5,  5, 10,\n",
              "        2,  4,  1], dtype=uint8)"
            ]
          },
          "metadata": {},
          "execution_count": 13
        }
      ]
    },
    {
      "cell_type": "markdown",
      "source": [
        "b. Make predictions on the testing set."
      ],
      "metadata": {
        "id": "RvGezAi8UeL_"
      }
    },
    {
      "cell_type": "code",
      "source": [
        "#print the accuracy, computation time, average and standard deviation\n",
        "print(\"Accuracy Score :\", 1 - accuracy_score(predictions, y_test))\n",
        "print(f\"Elapsed time : {ElapsedTime} seconds\")\n",
        "print(\"average : \", np.average(predictions))\n",
        "print(\"Standard Deviation : \", np.std(predictions))"
      ],
      "metadata": {
        "colab": {
          "base_uri": "https://localhost:8080/"
        },
        "id": "HjdllwrRUeMA",
        "outputId": "31c0e4cf-bae5-4bf3-b077-1a3f26458476"
      },
      "execution_count": null,
      "outputs": [
        {
          "output_type": "stream",
          "name": "stdout",
          "text": [
            "Accuracy Score : 0.050000000000000044\n",
            "Elapsed time : 0.03019094467163086 seconds\n",
            "average :  4.55\n",
            "Standard Deviation :  2.71062723368596\n"
          ]
        }
      ]
    },
    {
      "cell_type": "markdown",
      "source": [
        "Step 5: k-NN Classifier"
      ],
      "metadata": {
        "id": "r1F-9UZ9UeMB"
      }
    },
    {
      "cell_type": "markdown",
      "source": [
        "a.Run k-NN classifier for k value = 1"
      ],
      "metadata": {
        "id": "R7Gb34UXUeMB"
      }
    },
    {
      "cell_type": "code",
      "source": [
        "# instantiate the model\n",
        "knn = KNeighborsClassifier(1)\n",
        "# fit the model\n",
        "knn.fit(x_train, y_train)\n",
        "StartTime = time.time()\n",
        "predictions = knn.predict(x_test)\n",
        "EndTime = time.time()\n",
        "elapsed_time = EndTime - StartTime\n",
        "\n",
        "#print the accuracy and computation time\n",
        "print(\"Accuracy Score :\", 1 - accuracy_score(predictions, y_test))\n",
        "print(f\"Elapsed time : {ElapsedTime} seconds\")"
      ],
      "metadata": {
        "colab": {
          "base_uri": "https://localhost:8080/"
        },
        "id": "bbkFWcKBUeMB",
        "outputId": "4f8626c7-441b-45f4-f44f-e63485576682"
      },
      "execution_count": null,
      "outputs": [
        {
          "output_type": "stream",
          "name": "stdout",
          "text": [
            "Accuracy Score : 0.0\n",
            "Elapsed time : 0.03019094467163086 seconds\n"
          ]
        },
        {
          "output_type": "stream",
          "name": "stderr",
          "text": [
            "/usr/local/lib/python3.10/dist-packages/sklearn/neighbors/_classification.py:215: DataConversionWarning: A column-vector y was passed when a 1d array was expected. Please change the shape of y to (n_samples,), for example using ravel().\n",
            "  return self._fit(X, y)\n"
          ]
        }
      ]
    },
    {
      "cell_type": "markdown",
      "source": [
        "b.Run k-NN classifier for k value = 3"
      ],
      "metadata": {
        "id": "ofOMRpUhUeMC"
      }
    },
    {
      "cell_type": "code",
      "source": [
        "# instantiate the model\n",
        "knn = KNeighborsClassifier(3)\n",
        "# fit the model\n",
        "knn.fit(x_train, y_train)\n",
        "StartTime = time.time()\n",
        "predictions = knn.predict(x_test)\n",
        "EndTime = time.time()\n",
        "elapsed_time = EndTime - StartTime\n",
        "\n",
        "#print the accuracy and computation time\n",
        "print(\"Accuracy Score :\", 1 - accuracy_score(predictions, y_test))\n",
        "print(f\"Elapsed time : {ElapsedTime} seconds\")"
      ],
      "metadata": {
        "colab": {
          "base_uri": "https://localhost:8080/"
        },
        "outputId": "7ae67bd4-2194-4681-f03a-3d34530dc8e5",
        "id": "PvLI8G-VUeMC"
      },
      "execution_count": null,
      "outputs": [
        {
          "output_type": "stream",
          "name": "stdout",
          "text": [
            "Accuracy Score : 0.0\n",
            "Elapsed time : 0.03019094467163086 seconds\n"
          ]
        },
        {
          "output_type": "stream",
          "name": "stderr",
          "text": [
            "/usr/local/lib/python3.10/dist-packages/sklearn/neighbors/_classification.py:215: DataConversionWarning: A column-vector y was passed when a 1d array was expected. Please change the shape of y to (n_samples,), for example using ravel().\n",
            "  return self._fit(X, y)\n"
          ]
        }
      ]
    },
    {
      "cell_type": "markdown",
      "source": [
        "c.Run k-NN classifier for k value = 7"
      ],
      "metadata": {
        "id": "97RoPycBUeMC"
      }
    },
    {
      "cell_type": "code",
      "source": [
        "# instantiate the model\n",
        "knn = KNeighborsClassifier(7)\n",
        "# fit the model\n",
        "knn.fit(x_train, y_train)\n",
        "StartTime = time.time()\n",
        "predictions = knn.predict(x_test)\n",
        "EndTime = time.time()\n",
        "elapsed_time = EndTime - StartTime\n",
        "\n",
        "#print the accuracy and computation time\n",
        "print(\"Accuracy Score :\", 1 - accuracy_score(predictions, y_test))\n",
        "print(f\"Elapsed time : {ElapsedTime} seconds\")"
      ],
      "metadata": {
        "colab": {
          "base_uri": "https://localhost:8080/"
        },
        "id": "gGR4UcWDUeMD",
        "outputId": "c229fa67-7abc-4627-fcd0-55321b4e91ea"
      },
      "execution_count": null,
      "outputs": [
        {
          "output_type": "stream",
          "name": "stdout",
          "text": [
            "Accuracy Score : 0.050000000000000044\n",
            "Elapsed time : 0.03019094467163086 seconds\n"
          ]
        },
        {
          "output_type": "stream",
          "name": "stderr",
          "text": [
            "/usr/local/lib/python3.10/dist-packages/sklearn/neighbors/_classification.py:215: DataConversionWarning: A column-vector y was passed when a 1d array was expected. Please change the shape of y to (n_samples,), for example using ravel().\n",
            "  return self._fit(X, y)\n"
          ]
        }
      ]
    }
  ]
}